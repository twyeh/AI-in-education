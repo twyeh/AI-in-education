{
  "nbformat": 4,
  "nbformat_minor": 0,
  "metadata": {
    "colab": {
      "provenance": [],
      "authorship_tag": "ABX9TyMWs56BhC4HO2A27BYYoXLm",
      "include_colab_link": true
    },
    "kernelspec": {
      "name": "python3",
      "display_name": "Python 3"
    },
    "language_info": {
      "name": "python"
    }
  },
  "cells": [
    {
      "cell_type": "markdown",
      "metadata": {
        "id": "view-in-github",
        "colab_type": "text"
      },
      "source": [
        "<a href=\"https://colab.research.google.com/github/twyeh/AI-in-education/blob/main/%E4%BD%BF%E7%94%A8keras%E8%A8%AD%E8%A8%88XOR%E9%96%98%E7%A5%9E%E7%B6%93%E7%B6%B2%E8%B7%AF_version_2_.ipynb\" target=\"_parent\"><img src=\"https://colab.research.google.com/assets/colab-badge.svg\" alt=\"Open In Colab\"/></a>"
      ]
    },
    {
      "cell_type": "code",
      "execution_count": 2,
      "metadata": {
        "colab": {
          "base_uri": "https://localhost:8080/"
        },
        "id": "KTQZhh7Xv01e",
        "outputId": "a9c99c4f-6d08-4dbc-9c69-f5a9c36f64ea"
      },
      "outputs": [
        {
          "output_type": "stream",
          "name": "stdout",
          "text": [
            "\u001b[1m1/1\u001b[0m \u001b[32m━━━━━━━━━━━━━━━━━━━━\u001b[0m\u001b[37m\u001b[0m \u001b[1m0s\u001b[0m 74ms/step\n",
            "預測結果:\n",
            "[[0.]\n",
            " [1.]\n",
            " [1.]\n",
            " [0.]]\n"
          ]
        }
      ],
      "source": [
        "import numpy as np\n",
        "from tensorflow.keras.models import Sequential\n",
        "from tensorflow.keras.layers import Dense\n",
        "from tensorflow.keras.optimizers import SGD\n",
        "\n",
        "# 定義 XOR 的輸入和輸出\n",
        "X = np.array([[0, 0], [0, 1], [1, 0], [1, 1]])  # 輸入數據\n",
        "y = np.array([[0], [1], [1], [0]])  # XOR 輸出數據\n",
        "\n",
        "# 建立一層隱藏層的神經網路模型\n",
        "model = Sequential([\n",
        "    Dense(4, activation='sigmoid'),  # 隱藏層，使用 4 個神經元\n",
        "    Dense(1, activation='sigmoid')  # 輸出層，使用 1 個神經元\n",
        "])\n",
        "\n",
        "# 編譯模型，使用二元交叉熵作為損失函數\n",
        "model.compile(optimizer=SGD(learning_rate=0.1), loss='binary_crossentropy', metrics=['accuracy'])\n",
        "\n",
        "# 訓練模型\n",
        "model.fit(X, y, epochs=10000, verbose=0)  # 訓練 10000 次，關閉詳細輸出\n"
      ]
    },
    {
      "cell_type": "code",
      "source": [
        "# 評估模型\n",
        "_, accuracy = model.evaluate(X, y, verbose=0)\n",
        "print(f'Accuracy: {accuracy * 100:.2f}%')"
      ],
      "metadata": {
        "colab": {
          "base_uri": "https://localhost:8080/"
        },
        "id": "2nBTvFQiyoEH",
        "outputId": "1663d7df-c1b1-4b9d-b734-54d8651e92df"
      },
      "execution_count": 4,
      "outputs": [
        {
          "output_type": "stream",
          "name": "stdout",
          "text": [
            "Accuracy: 100.00%\n"
          ]
        }
      ]
    },
    {
      "cell_type": "code",
      "source": [
        "predictions = model.predict(X)\n",
        "print(\"預測結果:\")\n",
        "print(predictions)  # 四捨五入以檢視預測值（接近 0 或 1）"
      ],
      "metadata": {
        "colab": {
          "base_uri": "https://localhost:8080/"
        },
        "id": "Yz3hrffPydbc",
        "outputId": "553116b9-e3a6-4e32-a3c2-e00886569ab4"
      },
      "execution_count": 3,
      "outputs": [
        {
          "output_type": "stream",
          "name": "stdout",
          "text": [
            "\u001b[1m1/1\u001b[0m \u001b[32m━━━━━━━━━━━━━━━━━━━━\u001b[0m\u001b[37m\u001b[0m \u001b[1m0s\u001b[0m 36ms/step\n",
            "預測結果:\n",
            "[[0.00507164]\n",
            " [0.9847184 ]\n",
            " [0.98377526]\n",
            " [0.02399311]]\n"
          ]
        }
      ]
    }
  ]
}