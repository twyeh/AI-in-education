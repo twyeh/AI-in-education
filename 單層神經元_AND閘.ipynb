{
  "nbformat": 4,
  "nbformat_minor": 0,
  "metadata": {
    "colab": {
      "provenance": [],
      "authorship_tag": "ABX9TyOo0NVJzQrPi0wegGuMoj0u",
      "include_colab_link": true
    },
    "kernelspec": {
      "name": "python3",
      "display_name": "Python 3"
    },
    "language_info": {
      "name": "python"
    }
  },
  "cells": [
    {
      "cell_type": "markdown",
      "metadata": {
        "id": "view-in-github",
        "colab_type": "text"
      },
      "source": [
        "<a href=\"https://colab.research.google.com/github/twyeh/AI-in-education/blob/main/%E5%96%AE%E5%B1%A4%E7%A5%9E%E7%B6%93%E5%85%83_AND%E9%96%98.ipynb\" target=\"_parent\"><img src=\"https://colab.research.google.com/assets/colab-badge.svg\" alt=\"Open In Colab\"/></a>"
      ]
    },
    {
      "cell_type": "code",
      "execution_count": null,
      "metadata": {
        "id": "oOi03kOFj3li"
      },
      "outputs": [],
      "source": []
    },
    {
      "cell_type": "markdown",
      "source": [
        "## 提問 Gemini\n",
        "使用python 設計一個模擬一位元AND閘類神經元網路"
      ],
      "metadata": {
        "id": "816YSF2Vj5W2"
      }
    },
    {
      "source": [
        "import numpy as np\n",
        "\n",
        "# 定義激活函數 (Sigmoid)\n",
        "def sigmoid(x):\n",
        "  return 1 / (1 + np.exp(-x))\n",
        "\n",
        "# 定義 AND 閘神經元\n",
        "class ANDGate:\n",
        "  def __init__(self):\n",
        "    # 初始化權重和偏置\n",
        "    self.weights = np.array([0.5, 0.5])  # 初始權重\n",
        "    self.bias = -0.7  # 初始偏置\n",
        "\n",
        "  def predict(self, inputs):\n",
        "    # 計算加權總和\n",
        "    weighted_sum = np.dot(inputs, self.weights) + self.bias\n",
        "    # 套用激活函數\n",
        "    output = sigmoid(weighted_sum)\n",
        "    return output\n",
        "\n",
        "# 建立 AND 閘神經元\n",
        "and_gate = ANDGate()\n",
        "\n",
        "# 測試 AND 閘\n",
        "inputs = np.array([[0, 0], [0, 1], [1, 0], [1, 1]])\n",
        "\n",
        "for input_data in inputs:\n",
        "  prediction = and_gate.predict(input_data)\n",
        "  print(f\"輸入: {input_data}, 預測: {prediction}\")"
      ],
      "cell_type": "code",
      "metadata": {
        "colab": {
          "base_uri": "https://localhost:8080/"
        },
        "id": "o4acoERNmg-j",
        "outputId": "f0b2a14b-62b0-4f4e-cb9f-18290eada606"
      },
      "execution_count": 11,
      "outputs": [
        {
          "output_type": "stream",
          "name": "stdout",
          "text": [
            "輸入: [0 0], 預測: 0.3318122278318339\n",
            "輸入: [0 1], 預測: 0.45016600268752216\n",
            "輸入: [1 0], 預測: 0.45016600268752216\n",
            "輸入: [1 1], 預測: 0.574442516811659\n"
          ]
        }
      ]
    },
    {
      "cell_type": "markdown",
      "source": [
        "**程式碼說明：**\n",
        "\n",
        "1. sigmoid(x): 定義 sigmoid 激活函數，將輸入值映射到 0 到 1 之間。\n",
        "\n",
        "2. ANDGate 類別:\n",
        "\n",
        "  * __init__: 初始化權重 weights 和偏置 bias。\n",
        "  * predict: 計算輸入的加權總和，套用 sigmoid 激活函數，並返回預測結果。\n",
        "3. 建立 ANDGate 物件: 建立一個 ANDGate 類別的實例 and_gate。\n",
        "4. 測試: 使用四種可能的輸入組合 [0, 0], [0, 1], [1, 0], [1, 1] 測試 AND 閘，並印出預測結果。\n",
        "\n",
        "**如何運作：**\n",
        "\n",
        "* AND 閘的目標是模擬邏輯 AND 運算，只有當兩個輸入都為 1 時，輸出才為 1。\n",
        "* 神經元透過調整權重和偏置來學習這個行為。\n",
        "* 在這個程式碼中，初始權重和偏置已經設定為接近 AND 閘邏輯的值，因此不需要額外的訓練。\n",
        "* predict 函數計算輸入的加權總和，並使用 sigmoid 函數將其轉換為 0 到 1 之間的輸出。\n",
        "* 當兩個輸入都為 1 時，加權總和會超過閾值，sigmoid 函數會輸出接近 1 的值，表示 AND 閘輸出為 1。\n",
        "\n",
        "**注意事項：**\n",
        "\n",
        "* 這個程式碼示範了一個簡單的 AND 閘神經元，沒有涉及到訓練過程。\n",
        "* 對於更複雜的邏輯閘或神經網路，需要使用反向傳播等訓練演算法來調整權重和偏置，使其學習正確的行為。\n",
        "* 您可以修改權重和偏置的初始值來觀察其對預測結果的影響。"
      ],
      "metadata": {
        "id": "ho53Alugnd6K"
      }
    },
    {
      "cell_type": "markdown",
      "source": [
        "\n",
        "\n",
        "---\n",
        "設計一個模擬一位元XOR閘類神經元網路\n"
      ],
      "metadata": {
        "id": "0vc1_Vh1pBNw"
      }
    },
    {
      "source": [
        "import numpy as np\n",
        "\n",
        "# 定義激活函數 (Sigmoid)\n",
        "def sigmoid(x):\n",
        "  return 1 / (1 + np.exp(-x))\n",
        "\n",
        "# 定義 XOR 閘神經元 (使用多層感知器)\n",
        "class XORGate:\n",
        "  def __init__(self):\n",
        "    # 初始化權重和偏置 (隱藏層和輸出層)\n",
        "    self.hidden_weights = np.array([[0.5, 0.5], [-0.5, -0.5]])\n",
        "    self.hidden_bias = np.array([0.7, -0.7])\n",
        "    self.output_weights = np.array([0.5, -0.5])\n",
        "    self.output_bias = -0.7\n",
        "\n",
        "  def predict(self, inputs):\n",
        "    # 計算隱藏層的輸出\n",
        "    hidden_layer_output = sigmoid(np.dot(inputs, self.hidden_weights) + self.hidden_bias)\n",
        "\n",
        "    # 計算輸出層的輸出\n",
        "    output = sigmoid(np.dot(hidden_layer_output, self.output_weights) + self.output_bias)\n",
        "    return output\n",
        "\n",
        "# 建立 XOR 閘神經元\n",
        "xor_gate = XORGate()\n",
        "\n",
        "# 測試 XOR 閘\n",
        "inputs = np.array([[0, 0], [0, 1], [1, 0], [1, 1]])\n",
        "\n",
        "for input_data in inputs:\n",
        "  prediction = xor_gate.predict(input_data)\n",
        "  print(f\"輸入: {input_data}, 預測: {prediction}\")"
      ],
      "cell_type": "code",
      "metadata": {
        "colab": {
          "base_uri": "https://localhost:8080/"
        },
        "id": "_LdcxderpGiC",
        "outputId": "e0d79246-1bb1-4c4c-bb87-e28db1cc2bfd"
      },
      "execution_count": 12,
      "outputs": [
        {
          "output_type": "stream",
          "name": "stdout",
          "text": [
            "輸入: [0 0], 預測: 0.37009431393616227\n",
            "輸入: [0 1], 預測: 0.3679967082146794\n",
            "輸入: [1 0], 預測: 0.3679967082146794\n",
            "輸入: [1 1], 預測: 0.37009431393616227\n"
          ]
        }
      ]
    },
    {
      "cell_type": "markdown",
      "source": [
        "**程式碼說明：**\n",
        "\n",
        "1. sigmoid(x): 與 AND 閘相同，使用 sigmoid 激活函數。\n",
        "2. XORGate 類別:\n",
        "  * __init__: 初始化隱藏層和輸出層的權重和偏置。XOR 閘需要多層感知器 (MLP) 來實現，因此需要兩組權重和偏置。\n",
        "  * predict:\n",
        "    * 首先，計算隱藏層的輸出，使用輸入、隱藏層權重和偏置，並套用 sigmoid 激活函數。\n",
        "    * 接著，計算輸出層的輸出，使用隱藏層的輸出、輸出層權重和偏置，並套用 sigmoid 激活函數。\n",
        "3. 建立 XORGate 物件: 建立一個 XORGate 類別的實例 xor_gate。\n",
        "4. 測試: 使用四種可能的輸入組合測試 XOR 閘，並印出預測結果。\n",
        "**如何運作：**\n",
        "\n",
        "* XOR 閘的目標是當兩個輸入不同時輸出 1，相同時輸出 0。\n",
        "* 因為 XOR 閘的邏輯是非線性可分的，單層感知器無法實現，所以需要使用多層感知器 (MLP)。\n",
        "* 隱藏層充當特徵提取器，將輸入轉換為線性可分的形式。\n",
        "* 輸出層根據隱藏層的輸出進行最終的分類。\n",
        "**注意事項：**\n",
        "\n",
        "* 這個程式碼示範了一個簡單的 XOR 閘神經元，權重和偏置已經* 設定為接近 XOR 閘邏輯的值。\n",
        "* 在實際應用中，通常需要使用反向傳播等訓練演算法來調整權重和偏置，讓網路學習正確的 XOR 邏輯。"
      ],
      "metadata": {
        "id": "VdkJRC3hpMiv"
      }
    }
  ]
}