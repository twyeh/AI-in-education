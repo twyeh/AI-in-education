{
  "nbformat": 4,
  "nbformat_minor": 0,
  "metadata": {
    "colab": {
      "private_outputs": true,
      "provenance": [],
      "authorship_tag": "ABX9TyPMbNhVs5YdmXnc8VBYjWa2",
      "include_colab_link": true
    },
    "kernelspec": {
      "name": "python3",
      "display_name": "Python 3"
    },
    "language_info": {
      "name": "python"
    }
  },
  "cells": [
    {
      "cell_type": "markdown",
      "metadata": {
        "id": "view-in-github",
        "colab_type": "text"
      },
      "source": [
        "<a href=\"https://colab.research.google.com/github/twyeh/AI-in-education/blob/main/Introduction.ipynb\" target=\"_parent\"><img src=\"https://colab.research.google.com/assets/colab-badge.svg\" alt=\"Open In Colab\"/></a>"
      ]
    },
    {
      "cell_type": "code",
      "execution_count": null,
      "metadata": {
        "id": "vs9HfehXmkTE"
      },
      "outputs": [],
      "source": []
    },
    {
      "cell_type": "markdown",
      "source": [
        "本課程根據STS(science technology society)方式探討人工智慧(AI)發展議題，希望從教育的觀點探討相關課題。課程配合動手做範例以介紹人工智慧技術背後對應的科學方法。"
      ],
      "metadata": {
        "id": "6-5T9PTMm0au"
      }
    },
    {
      "cell_type": "markdown",
      "source": [
        "# STS\n",
        "隨著技術及方法不斷進步下，近代科學與科技持續發展時，使得當代社會"
      ],
      "metadata": {
        "id": "zHYvQaTGo1_i"
      }
    }
  ]
}