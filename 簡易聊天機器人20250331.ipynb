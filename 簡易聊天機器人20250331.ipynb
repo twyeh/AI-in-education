{
  "cells": [
    {
      "cell_type": "markdown",
      "metadata": {
        "id": "view-in-github",
        "colab_type": "text"
      },
      "source": [
        "<a href=\"https://colab.research.google.com/github/twyeh/AI-in-education/blob/main/%E7%B0%A1%E6%98%93%E8%81%8A%E5%A4%A9%E6%A9%9F%E5%99%A8%E4%BA%BA20250331.ipynb\" target=\"_parent\"><img src=\"https://colab.research.google.com/assets/colab-badge.svg\" alt=\"Open In Colab\"/></a>"
      ]
    },
    {
      "cell_type": "markdown",
      "id": "7b8b3203",
      "metadata": {
        "id": "7b8b3203"
      },
      "source": [
        "<img src=\"https://r2cdn.perplexity.ai/pplx-full-logo-primary-dark%402x.png\" class=\"logo\" width=\"120\"/>\n",
        "\n",
        "# 使用RNN的LSTM方法建構一個可以從網路參考一篇文章進行聊天的簡易機器人\n",
        "\n",
        "---\n",
        "\n",
        "# 使用RNN的LSTM方法建構一個可以從網路參考一篇文章進行聊天的簡易機器人\n",
        "\n",
        "使用LSTM（長短期記憶網絡）構建能參考網路文章進行聊天的機器人，主要涉及自然語言處理與深度學習技術的整合應用。以下是關鍵步驟與技術實現的詳細說明：\n",
        "\n",
        "---\n",
        "\n",
        "### **1. 數據準備與預處理**\n",
        "\n",
        "**文本獲取與清洗**\n",
        "首先需從目標文章提取文本內容，進行以下處理：\n",
        "\n",
        "- 移除特殊符號、HTML標籤等無意義字符\n",
        "- 分句與分詞處理（英文使用NLTK，中文需結巴分詞）\n",
        "- 轉換為小寫並去除停用詞"
      ]
    },
    {
      "cell_type": "code",
      "execution_count": 1,
      "id": "33576914",
      "metadata": {
        "id": "33576914",
        "outputId": "5ddee91a-7d75-4af3-dbf6-800e2865bea7",
        "colab": {
          "base_uri": "https://localhost:8080/"
        }
      },
      "outputs": [
        {
          "output_type": "stream",
          "name": "stderr",
          "text": [
            "Building prefix dict from the default dictionary ...\n",
            "DEBUG:jieba:Building prefix dict from the default dictionary ...\n",
            "Dumping model to file cache /tmp/jieba.cache\n",
            "DEBUG:jieba:Dumping model to file cache /tmp/jieba.cache\n",
            "Loading model cost 3.041 seconds.\n",
            "DEBUG:jieba:Loading model cost 3.041 seconds.\n",
            "Prefix dict has been built successfully.\n",
            "DEBUG:jieba:Prefix dict has been built successfully.\n"
          ]
        }
      ],
      "source": [
        "import jieba  # 中文分詞\n",
        "text = \"Hong Kong　CNN　 — As Donald Trump’s April 2 “Liberation Day” for announcing “reciprocal” tariffs on America’s trading partners approaches, the question in Beijing is whether this will be the moment when its nascent trade war with the US really escalates.　Mixed messages have kept Chinese officials guessing. The US president has long railed against the gaping trade deficit between the world’s two largest economies – and on the campaign trail threatened upwards of 60% duties on all Chinese goods coming into the US. That’s potentially putting Beijing prominently in line for Wednesday’s expected measures.　And yet, in recent days, Trump has suggested he could reduce tariffs on Chinese imports as part of a wider bargain on the sale of Chinese-social social media platform TikTok.　Speaking on Air Force One on Sunday, he vowed again to complete a deal on the platform ahead of a Saturday deadline. Trump has also touted a “a great relationship” with Chinese leader Xi Jinping even as his government slapped tough controls on China’s access to US tech and called for tighter investment controls.　Beijing is not alone in facing vacillations from Trump in his second term. The US leader appears to use uncertainty as a tactical weapon as he faces off against trade partners near and far.　On Monday, Asian shares followed US futures in falling because of the riskiness over what the upcoming tariffs could be. Stock markets in Japan and South Korea, whose carmakers are likely to be disproportionately affected by measures announced by Trump last week, were hit especially hard..But for China, America’s closest peer in economic size and its key geopolitical rival, the shape and tenor of their relationship can affect the whole world. One possible outcome, a de facto decoupling, would upend global supply chains and roil parts of each economy. Another could see the two reframe how they co-exist amicably in a global economy. “We’re at a real fork in the road,” Scott Kennedy, a senior adviser at the Center for Strategic and International Studies think tank in Washington, told reporters on the sidelines of a global business forum in Beijing last week. “We might see these negotiations and pressure result in a pulling back of these threats and a resumption of a more stable relationship, but things could get a lot worse. We could see tariffs go sky high and investment fall. That would lead to some sort of at least incremental decoupling between the two economies, and there’d be a lot of suffering,” he said. In the face of the uncertainty, Beijing’s message has been clear: The US should “return to the right track of dialogue and cooperation at an early date,” a Foreign Ministry official said earlier this month. But “if war is what the US wants, be it a tariff war, a trade war or any other type of war, we’re ready to fight till the end.” During what the US described as an “introductory meeting” between America’s top trade representative Jamieson Greer and China’s Vice Premier He Lifeng last week, He “expressed serious concerns” about existing US tariffs and the potential introduction of further duties on April 2, according to a state media readout. A separate summary of the call from a social media account linked to China’s state broadcaster was more explicit on what He said: “If the US insists on damaging China’s interests, China will resolutely counterattack.” Any US changes to China’s trading status “will not affect China’s win-win cooperation with the world,” He also said. China has already hit back swiftly – though modestly – on the two tranches of additional 10% tariffs Trump has imposed on Chinese imports to the US so far, while sharpening a toolbox of other countermeasures. Chinese Premier Li Qiang last week signed an order strengthening China’s “anti-sanctions law,” which allows Beijing to take action against foreign countries that “contain or suppress” China or discriminate against its entities and individuals. Earlier this month, Beijing used anti-discrimination measures under its Foreign Trade Law for the first time to raise tariffs on Canadian imports. Late last year, the government also overhauled its export controls for “dual use” items and then swiftly tightened export of gallium, germanium, antimony – key materials with military applications. “China knows the way it handled the US for Trump’s first term might not work. Beijing underestimated the US determination to wage a war, it did not have enough bullets to have a tit-for-tat war,” said Shanghai-based foreign affairs analyst Shen Dingli. Then, China’s retaliatory measures largely consisted of slapping tariffs across a wide swath of US imports before the two sides reached a “phase one” trade deal that analysts say China never fully implemented. This time, Beijing is moving more strategically and using other tools as it aims for leader-level talks with Trump to stop the escalation, Shen said. Beijing has also been using global uncertainty around Trump’s “America First” and trade policy to pitch itself as a champion of the global economy – and win economic allies among US trade partners and companies from Asia to Europe. “Decoupling and breaking supply chains harm everyone and lead nowhere,” Xi told an audience of global executives in Beijing last week, which included CEOs of US firms FedEx and Qualcomm. “Blocking others’ paths will ultimately only obstruct your own,” the Chinese leader said. Data show China has already diversified imports and exports away from the US since the first Trump trade war. But access to European and Asian markets will become increasingly critical for Beijing if it faces mounting barriers to enter the American market. Those could be numerous as Trump seeks to close trade deficits and also punish behaviors he sees as harming the US. The president last week also threatened hefty tariffs on imports from countries that import Venezuelan oil, a list that China tops. Over the weekend, he also threatened to put similar, secondary sanctions on Russian oil, of which China is also a major purchaser. “It feels like it’s gravitating towards a situation where the overall tariff rate on Chinese goods shipped the United States by summertime could actually reach the President’s proposed 60%,” said Kurt Tong, managing partner at Washington DC-based advisory firm Asia Group, a former ambassador who served as consul general in Hong Kong. That’s a level economists say “will lead to a dramatic decline in shipments,” he added.\"\n",
        "sentences0 = [jieba.lcut(sent) for sent in text.split(',')]"
      ]
    },
    {
      "cell_type": "markdown",
      "id": "262a0125",
      "metadata": {
        "id": "262a0125"
      },
      "source": [
        "**建立詞彙映射表**\n",
        "將詞語轉換為數值索引以輸入模型："
      ]
    },
    {
      "cell_type": "code",
      "execution_count": 2,
      "id": "1a5125b5",
      "metadata": {
        "id": "1a5125b5"
      },
      "outputs": [],
      "source": [
        "from tensorflow.keras.preprocessing.text import Tokenizer\n",
        "tokenizer = Tokenizer()\n",
        "tokenizer.fit_on_texts(sentences0)\n",
        "word_index = tokenizer.word_index"
      ]
    },
    {
      "cell_type": "markdown",
      "id": "5fcff766",
      "metadata": {
        "id": "5fcff766"
      },
      "source": [
        "**序列填充**\n",
        "統一序列長度以符合模型輸入格式："
      ]
    },
    {
      "cell_type": "code",
      "execution_count": 3,
      "id": "fe6a0900",
      "metadata": {
        "id": "fe6a0900"
      },
      "outputs": [],
      "source": [
        "from tensorflow.keras.preprocessing.sequence import pad_sequences\n",
        "max_length = 50  # 根據文本特性調整\n",
        "sequences = pad_sequences(tokenizer.texts_to_sequences(sentences0),      maxlen=max_length, padding='post')"
      ]
    },
    {
      "cell_type": "code",
      "source": [
        "sequences"
      ],
      "metadata": {
        "colab": {
          "base_uri": "https://localhost:8080/"
        },
        "id": "KNZL0oQRisF-",
        "outputId": "667616a2-c99f-49cb-f2a4-8bb7a10a5ecc"
      },
      "id": "KNZL0oQRisF-",
      "execution_count": 4,
      "outputs": [
        {
          "output_type": "execute_result",
          "data": {
            "text/plain": [
              "array([[ 81,   1,  82, ..., 150,   0,   0],\n",
              "       [  1,  88,   1, ...,   5,   1, 180],\n",
              "       [  1,  14,   1, ...,   0,   0,   0],\n",
              "       ...,\n",
              "       [  1, 517,   1, ...,   0,   0,   0],\n",
              "       [  1, 523,   1, ...,  14,   1, 532],\n",
              "       [ 11,   1,  21, ...,   0,   0,   0]], dtype=int32)"
            ]
          },
          "metadata": {},
          "execution_count": 4
        }
      ]
    },
    {
      "cell_type": "code",
      "source": [
        " len(sequences)"
      ],
      "metadata": {
        "colab": {
          "base_uri": "https://localhost:8080/"
        },
        "id": "Mvt56xXhjH1g",
        "outputId": "3cb135cc-800c-4f87-8c2b-e8c94471164d"
      },
      "id": "Mvt56xXhjH1g",
      "execution_count": 5,
      "outputs": [
        {
          "output_type": "execute_result",
          "data": {
            "text/plain": [
              "49"
            ]
          },
          "metadata": {},
          "execution_count": 5
        }
      ]
    },
    {
      "cell_type": "markdown",
      "id": "2bad9d2b",
      "metadata": {
        "id": "2bad9d2b"
      },
      "source": [
        "---\n",
        "\n",
        "### **2. 模型架構設計**\n",
        "\n",
        "採用**編碼器-解碼器（Seq2Seq）**結構，搭配雙向LSTM提升上下文理解能力："
      ]
    },
    {
      "source": [
        "from tensorflow.keras.layers import LSTM, Dense, Embedding, Bidirectional, Input, concatenate\n",
        "from tensorflow.keras.models import Model\n",
        "\n",
        "# 編碼器\n",
        "encoder_input = Input(shape=(max_length,))\n",
        "encoder_embed = Embedding(len(word_index)+1, 256)(encoder_input)\n",
        "# Get outputs from Bidirectional LSTM, handling both directions\n",
        "encoder_output, forward_h, forward_c, backward_h, backward_c = Bidirectional(LSTM(256, return_state=True))(encoder_embed)\n",
        "# Concatenate the hidden and cell states from both directions\n",
        "state_h = concatenate([forward_h, backward_h])\n",
        "state_c = concatenate([forward_c, backward_c])\n",
        "encoder_states = [state_h, state_c]\n",
        "\n",
        "# 解碼器\n",
        "decoder_input = Input(shape=(max_length,))\n",
        "decoder_embed = Embedding(len(word_index)+1, 256)(decoder_input)\n",
        "decoder_lstm = LSTM(256, return_sequences=True, return_state=True)\n",
        "decoder_output, _, _ = decoder_lstm(decoder_embed, initial_state=encoder_states)\n",
        "decoder_dense = Dense(len(word_index)+1, activation='softmax')(decoder_output)\n",
        "\n",
        "model = Model([encoder_input, decoder_input], decoder_dense)\n",
        "\n"
      ],
      "cell_type": "code",
      "metadata": {
        "id": "NAURdYYxgq4g"
      },
      "id": "NAURdYYxgq4g",
      "execution_count": 6,
      "outputs": []
    },
    {
      "source": [
        "from tensorflow.keras.layers import LSTM, Dense, Embedding, Bidirectional, Input, concatenate\n",
        "from tensorflow.keras.models import Model\n",
        "\n",
        "# Encoder\n",
        "encoder_input = Input(shape=(max_length,))\n",
        "encoder_embed = Embedding(len(word_index) + 1, 256)(encoder_input)\n",
        "# Get outputs from Bidirectional LSTM, handling both directions\n",
        "encoder_output, forward_h, forward_c, backward_h, backward_c = Bidirectional(\n",
        "    LSTM(256, return_state=True)\n",
        ")(encoder_embed)\n",
        "# Concatenate the hidden and cell states from both directions\n",
        "state_h = concatenate([forward_h, backward_h])\n",
        "state_c = concatenate([forward_c, backward_c])\n",
        "# Before passing to the decoder, we need to reshape the hidden state\n",
        "# to match the decoder's LSTM units\n",
        "state_h = Dense(256, activation='relu')(state_h) # Reshape to 256 units\n",
        "state_c = Dense(256, activation='relu')(state_c) # Reshape to 256 units\n",
        "encoder_states = [state_h, state_c]\n",
        "\n",
        "# Decoder\n",
        "decoder_input = Input(shape=(max_length,))\n",
        "decoder_embed = Embedding(len(word_index) + 1, 256)(decoder_input)\n",
        "decoder_lstm = LSTM(256, return_sequences=True, return_state=True)\n",
        "decoder_output, _, _ = decoder_lstm(\n",
        "    decoder_embed, initial_state=encoder_states\n",
        ")\n",
        "decoder_dense = Dense(len(word_index) + 1, activation=\"softmax\")(decoder_output)\n",
        "\n",
        "model = Model([encoder_input, decoder_input], decoder_dense)"
      ],
      "cell_type": "code",
      "metadata": {
        "id": "UL2O4gZ82X-W"
      },
      "id": "UL2O4gZ82X-W",
      "execution_count": 21,
      "outputs": []
    },
    {
      "cell_type": "markdown",
      "id": "9773721b",
      "metadata": {
        "id": "9773721b"
      },
      "source": [
        "---\n",
        "\n",
        "### **3. 模型訓練配置**\n",
        "\n",
        "**損失函數與優化器**\n",
        "使用交叉熵損失與Adam優化器："
      ]
    },
    {
      "cell_type": "code",
      "execution_count": 22,
      "id": "87be58e4",
      "metadata": {
        "id": "87be58e4"
      },
      "outputs": [],
      "source": [
        "model.compile(optimizer='adam',\n",
        "              loss='sparse_categorical_crossentropy',\n",
        "              metrics=['accuracy'])"
      ]
    },
    {
      "cell_type": "markdown",
      "id": "bb794933",
      "metadata": {
        "id": "bb794933"
      },
      "source": [
        "**訓練參數設置**"
      ]
    },
    {
      "source": [
        "# Assuming 'sequences' is your preprocessed data from previous cells\n",
        "import numpy as np\n",
        "\n",
        "# Check if sequences has enough data for training\n",
        "if len(sequences) < 2:\n",
        "    raise ValueError(\"Not enough data in 'sequences' for training. Need at least 2 sequences.\")\n",
        "\n",
        "# Create encoder input data (previous sentence)\n",
        "encoder_input_data = sequences[:-1]\n",
        "\n",
        "# Create decoder input data (current sentence) and target data (next word)\n",
        "decoder_input_data = []\n",
        "decoder_target_data = []\n",
        "for i in range(len(sequences) - 1):\n",
        "    decoder_input_data.append(sequences[i+1][:-1]) # Exclude last word for input\n",
        "    decoder_target_data.append(sequences[i+1][1:]) # Exclude first word for target\n",
        "\n",
        "# Convert to NumPy arrays\n",
        "decoder_input_data = np.array(decoder_input_data)\n",
        "decoder_target_data = np.array(decoder_target_data)\n",
        "\n",
        "# Now you can call model.fit()\n",
        "# If the length of sequences is small, set validation_split to 0.0\n",
        "# to avoid the ValueError\n",
        "validation_split = 0.1 if len(sequences) > 5 else 0.0  # Adjust 5 if needed\n",
        "\n",
        "##encoder_input_data\n",
        "\n",
        "#decoder_input_data"
      ],
      "cell_type": "code",
      "metadata": {
        "colab": {
          "base_uri": "https://localhost:8080/"
        },
        "id": "r-4dG0OXnH_k",
        "outputId": "62b0f948-59a0-40bb-a7a6-8e73853ebd09"
      },
      "id": "r-4dG0OXnH_k",
      "execution_count": 23,
      "outputs": [
        {
          "output_type": "execute_result",
          "data": {
            "text/plain": [
              "array([[  1,  88,   1, ...,  29,   5,   1],\n",
              "       [  1,  14,   1, ...,   0,   0,   0],\n",
              "       [ 24,   1,  36, ...,   1,  12,   1],\n",
              "       ...,\n",
              "       [  1, 517,   1, ...,   0,   0,   0],\n",
              "       [  1, 523,   1, ...,   1,  14,   1],\n",
              "       [ 11,   1,  21, ...,   0,   0,   0]], dtype=int32)"
            ]
          },
          "metadata": {},
          "execution_count": 23
        }
      ]
    },
    {
      "cell_type": "code",
      "source": [
        "len(encoder_input_data)"
      ],
      "metadata": {
        "colab": {
          "base_uri": "https://localhost:8080/"
        },
        "id": "5WTRewV1pfM1",
        "outputId": "ee668d0d-8479-40a9-9519-3e2bac559043"
      },
      "id": "5WTRewV1pfM1",
      "execution_count": 9,
      "outputs": [
        {
          "output_type": "execute_result",
          "data": {
            "text/plain": [
              "48"
            ]
          },
          "metadata": {},
          "execution_count": 9
        }
      ]
    },
    {
      "cell_type": "code",
      "source": [
        "len(decoder_input_data)"
      ],
      "metadata": {
        "colab": {
          "base_uri": "https://localhost:8080/"
        },
        "id": "nYNYMqa_pg10",
        "outputId": "4bed7206-fb37-4e46-c8e9-ff4ca430f1c0"
      },
      "id": "nYNYMqa_pg10",
      "execution_count": 10,
      "outputs": [
        {
          "output_type": "execute_result",
          "data": {
            "text/plain": [
              "48"
            ]
          },
          "metadata": {},
          "execution_count": 10
        }
      ]
    },
    {
      "source": [
        "# Assuming 'sequences' is your preprocessed data from previous cells\n",
        "import numpy as np\n",
        "\n",
        "# Check if sequences has enough data for training\n",
        "if len(sequences) < 2:\n",
        "    raise ValueError(\"Not enough data in 'sequences' for training. Need at least 2 sequences.\")\n",
        "\n",
        "# Create encoder input data (previous sentence)\n",
        "encoder_input_data = sequences[:-1]\n",
        "\n",
        "# Create decoder input data (current sentence) and target data (next word)\n",
        "decoder_input_data = []\n",
        "decoder_target_data = []\n",
        "for i in range(len(sequences) - 1):\n",
        "    # The issue was here, decoder_input_data should have the same length as encoder_input_data\n",
        "    # decoder_input_data.append(sequences[i+1][:-1]) # Exclude last word for input\n",
        "    # decoder_target_data.append(sequences[i+1][1:]) # Exclude first word for target\n",
        "    decoder_input_data.append(sequences[i + 1]) # Keep the original length\n",
        "    decoder_target_data.append(sequences[i + 1]) # Keep the original length\n",
        "\n",
        "# Convert to NumPy arrays\n",
        "decoder_input_data = np.array(decoder_input_data)\n",
        "decoder_target_data = np.array(decoder_target_data)\n",
        "\n",
        "\n",
        "# Now you can call model.fit()\n",
        "# If the length of sequences is small, set validation_split to 0.0\n",
        "# to avoid the ValueError\n",
        "validation_split = 0.1 if len(sequences) > 5 else 0.0  # Adjust 5 if needed"
      ],
      "cell_type": "code",
      "metadata": {
        "id": "YfG9kSIG0cL8"
      },
      "id": "YfG9kSIG0cL8",
      "execution_count": 24,
      "outputs": []
    },
    {
      "cell_type": "code",
      "source": [
        "history = model.fit([encoder_input_data, decoder_input_data],\n",
        "                    decoder_target_data,\n",
        "                    batch_size=32,\n",
        "                    epochs=100,\n",
        "                    validation_split=validation_split)"
      ],
      "metadata": {
        "colab": {
          "base_uri": "https://localhost:8080/"
        },
        "id": "ONn0BSxwn_u2",
        "outputId": "e266fe2a-3aee-4ed1-d54c-e72ca01a13ef"
      },
      "id": "ONn0BSxwn_u2",
      "execution_count": 25,
      "outputs": [
        {
          "output_type": "stream",
          "name": "stdout",
          "text": [
            "Epoch 1/100\n",
            "\u001b[1m2/2\u001b[0m \u001b[32m━━━━━━━━━━━━━━━━━━━━\u001b[0m\u001b[37m\u001b[0m \u001b[1m9s\u001b[0m 2s/step - accuracy: 0.1857 - loss: 6.2453 - val_accuracy: 0.7040 - val_loss: 5.9388\n",
            "Epoch 2/100\n",
            "\u001b[1m2/2\u001b[0m \u001b[32m━━━━━━━━━━━━━━━━━━━━\u001b[0m\u001b[37m\u001b[0m \u001b[1m1s\u001b[0m 550ms/step - accuracy: 0.6270 - loss: 5.9673 - val_accuracy: 0.7000 - val_loss: 4.9882\n",
            "Epoch 3/100\n",
            "\u001b[1m2/2\u001b[0m \u001b[32m━━━━━━━━━━━━━━━━━━━━\u001b[0m\u001b[37m\u001b[0m \u001b[1m1s\u001b[0m 556ms/step - accuracy: 0.6347 - loss: 5.1865 - val_accuracy: 0.5920 - val_loss: 3.3945\n",
            "Epoch 4/100\n",
            "\u001b[1m2/2\u001b[0m \u001b[32m━━━━━━━━━━━━━━━━━━━━\u001b[0m\u001b[37m\u001b[0m \u001b[1m1s\u001b[0m 603ms/step - accuracy: 0.4864 - loss: 3.8646 - val_accuracy: 0.6840 - val_loss: 2.4812\n",
            "Epoch 5/100\n",
            "\u001b[1m2/2\u001b[0m \u001b[32m━━━━━━━━━━━━━━━━━━━━\u001b[0m\u001b[37m\u001b[0m \u001b[1m1s\u001b[0m 665ms/step - accuracy: 0.6100 - loss: 2.9607 - val_accuracy: 0.6680 - val_loss: 2.2451\n",
            "Epoch 6/100\n",
            "\u001b[1m2/2\u001b[0m \u001b[32m━━━━━━━━━━━━━━━━━━━━\u001b[0m\u001b[37m\u001b[0m \u001b[1m2s\u001b[0m 943ms/step - accuracy: 0.6120 - loss: 2.6444 - val_accuracy: 0.6920 - val_loss: 2.1945\n",
            "Epoch 7/100\n",
            "\u001b[1m2/2\u001b[0m \u001b[32m━━━━━━━━━━━━━━━━━━━━\u001b[0m\u001b[37m\u001b[0m \u001b[1m2s\u001b[0m 611ms/step - accuracy: 0.6152 - loss: 2.7134 - val_accuracy: 0.7040 - val_loss: 2.1526\n",
            "Epoch 8/100\n",
            "\u001b[1m2/2\u001b[0m \u001b[32m━━━━━━━━━━━━━━━━━━━━\u001b[0m\u001b[37m\u001b[0m \u001b[1m1s\u001b[0m 640ms/step - accuracy: 0.6421 - loss: 2.4871 - val_accuracy: 0.7120 - val_loss: 2.1043\n",
            "Epoch 9/100\n",
            "\u001b[1m2/2\u001b[0m \u001b[32m━━━━━━━━━━━━━━━━━━━━\u001b[0m\u001b[37m\u001b[0m \u001b[1m1s\u001b[0m 544ms/step - accuracy: 0.6278 - loss: 2.4694 - val_accuracy: 0.7120 - val_loss: 2.0777\n",
            "Epoch 10/100\n",
            "\u001b[1m2/2\u001b[0m \u001b[32m━━━━━━━━━━━━━━━━━━━━\u001b[0m\u001b[37m\u001b[0m \u001b[1m1s\u001b[0m 518ms/step - accuracy: 0.6325 - loss: 2.4054 - val_accuracy: 0.7120 - val_loss: 2.0650\n",
            "Epoch 11/100\n",
            "\u001b[1m2/2\u001b[0m \u001b[32m━━━━━━━━━━━━━━━━━━━━\u001b[0m\u001b[37m\u001b[0m \u001b[1m1s\u001b[0m 534ms/step - accuracy: 0.6348 - loss: 2.3498 - val_accuracy: 0.7120 - val_loss: 2.0485\n",
            "Epoch 12/100\n",
            "\u001b[1m2/2\u001b[0m \u001b[32m━━━━━━━━━━━━━━━━━━━━\u001b[0m\u001b[37m\u001b[0m \u001b[1m3s\u001b[0m 536ms/step - accuracy: 0.6300 - loss: 2.3365 - val_accuracy: 0.7120 - val_loss: 2.0260\n",
            "Epoch 13/100\n",
            "\u001b[1m2/2\u001b[0m \u001b[32m━━━━━━━━━━━━━━━━━━━━\u001b[0m\u001b[37m\u001b[0m \u001b[1m1s\u001b[0m 558ms/step - accuracy: 0.6406 - loss: 2.2221 - val_accuracy: 0.7120 - val_loss: 2.0016\n",
            "Epoch 14/100\n",
            "\u001b[1m2/2\u001b[0m \u001b[32m━━━━━━━━━━━━━━━━━━━━\u001b[0m\u001b[37m\u001b[0m \u001b[1m3s\u001b[0m 785ms/step - accuracy: 0.6450 - loss: 2.1482 - val_accuracy: 0.7120 - val_loss: 1.9802\n",
            "Epoch 15/100\n",
            "\u001b[1m2/2\u001b[0m \u001b[32m━━━━━━━━━━━━━━━━━━━━\u001b[0m\u001b[37m\u001b[0m \u001b[1m2s\u001b[0m 553ms/step - accuracy: 0.6456 - loss: 2.0964 - val_accuracy: 0.7120 - val_loss: 1.9599\n",
            "Epoch 16/100\n",
            "\u001b[1m2/2\u001b[0m \u001b[32m━━━━━━━━━━━━━━━━━━━━\u001b[0m\u001b[37m\u001b[0m \u001b[1m2s\u001b[0m 532ms/step - accuracy: 0.6429 - loss: 2.0746 - val_accuracy: 0.7120 - val_loss: 1.9399\n",
            "Epoch 17/100\n",
            "\u001b[1m2/2\u001b[0m \u001b[32m━━━━━━━━━━━━━━━━━━━━\u001b[0m\u001b[37m\u001b[0m \u001b[1m1s\u001b[0m 538ms/step - accuracy: 0.6319 - loss: 2.1105 - val_accuracy: 0.7120 - val_loss: 1.9231\n",
            "Epoch 18/100\n",
            "\u001b[1m2/2\u001b[0m \u001b[32m━━━━━━━━━━━━━━━━━━━━\u001b[0m\u001b[37m\u001b[0m \u001b[1m1s\u001b[0m 565ms/step - accuracy: 0.6436 - loss: 2.0081 - val_accuracy: 0.7120 - val_loss: 1.9107\n",
            "Epoch 19/100\n",
            "\u001b[1m2/2\u001b[0m \u001b[32m━━━━━━━━━━━━━━━━━━━━\u001b[0m\u001b[37m\u001b[0m \u001b[1m1s\u001b[0m 583ms/step - accuracy: 0.6367 - loss: 2.0220 - val_accuracy: 0.7120 - val_loss: 1.9002\n",
            "Epoch 20/100\n",
            "\u001b[1m2/2\u001b[0m \u001b[32m━━━━━━━━━━━━━━━━━━━━\u001b[0m\u001b[37m\u001b[0m \u001b[1m1s\u001b[0m 627ms/step - accuracy: 0.6336 - loss: 2.0163 - val_accuracy: 0.7120 - val_loss: 1.8912\n",
            "Epoch 21/100\n",
            "\u001b[1m2/2\u001b[0m \u001b[32m━━━━━━━━━━━━━━━━━━━━\u001b[0m\u001b[37m\u001b[0m \u001b[1m2s\u001b[0m 932ms/step - accuracy: 0.6369 - loss: 1.9852 - val_accuracy: 0.7120 - val_loss: 1.8849\n",
            "Epoch 22/100\n",
            "\u001b[1m2/2\u001b[0m \u001b[32m━━━━━━━━━━━━━━━━━━━━\u001b[0m\u001b[37m\u001b[0m \u001b[1m2s\u001b[0m 637ms/step - accuracy: 0.6336 - loss: 2.0008 - val_accuracy: 0.7240 - val_loss: 1.8800\n",
            "Epoch 23/100\n",
            "\u001b[1m2/2\u001b[0m \u001b[32m━━━━━━━━━━━━━━━━━━━━\u001b[0m\u001b[37m\u001b[0m \u001b[1m1s\u001b[0m 609ms/step - accuracy: 0.6470 - loss: 1.9655 - val_accuracy: 0.7240 - val_loss: 1.8752\n",
            "Epoch 24/100\n",
            "\u001b[1m2/2\u001b[0m \u001b[32m━━━━━━━━━━━━━━━━━━━━\u001b[0m\u001b[37m\u001b[0m \u001b[1m1s\u001b[0m 632ms/step - accuracy: 0.6350 - loss: 2.0294 - val_accuracy: 0.7240 - val_loss: 1.8721\n",
            "Epoch 25/100\n",
            "\u001b[1m2/2\u001b[0m \u001b[32m━━━━━━━━━━━━━━━━━━━━\u001b[0m\u001b[37m\u001b[0m \u001b[1m2s\u001b[0m 571ms/step - accuracy: 0.6451 - loss: 1.9622 - val_accuracy: 0.7320 - val_loss: 1.8710\n",
            "Epoch 26/100\n",
            "\u001b[1m2/2\u001b[0m \u001b[32m━━━━━━━━━━━━━━━━━━━━\u001b[0m\u001b[37m\u001b[0m \u001b[1m1s\u001b[0m 529ms/step - accuracy: 0.6434 - loss: 1.9758 - val_accuracy: 0.7320 - val_loss: 1.8712\n",
            "Epoch 27/100\n",
            "\u001b[1m2/2\u001b[0m \u001b[32m━━━━━━━━━━━━━━━━━━━━\u001b[0m\u001b[37m\u001b[0m \u001b[1m1s\u001b[0m 566ms/step - accuracy: 0.6426 - loss: 1.9713 - val_accuracy: 0.7320 - val_loss: 1.8690\n",
            "Epoch 28/100\n",
            "\u001b[1m2/2\u001b[0m \u001b[32m━━━━━━━━━━━━━━━━━━━━\u001b[0m\u001b[37m\u001b[0m \u001b[1m3s\u001b[0m 921ms/step - accuracy: 0.6507 - loss: 1.9248 - val_accuracy: 0.7360 - val_loss: 1.8676\n",
            "Epoch 29/100\n",
            "\u001b[1m2/2\u001b[0m \u001b[32m━━━━━━━━━━━━━━━━━━━━\u001b[0m\u001b[37m\u001b[0m \u001b[1m2s\u001b[0m 510ms/step - accuracy: 0.6546 - loss: 1.8893 - val_accuracy: 0.7320 - val_loss: 1.8671\n",
            "Epoch 30/100\n",
            "\u001b[1m2/2\u001b[0m \u001b[32m━━━━━━━━━━━━━━━━━━━━\u001b[0m\u001b[37m\u001b[0m \u001b[1m3s\u001b[0m 646ms/step - accuracy: 0.6498 - loss: 1.9078 - val_accuracy: 0.7360 - val_loss: 1.8632\n",
            "Epoch 31/100\n",
            "\u001b[1m2/2\u001b[0m \u001b[32m━━━━━━━━━━━━━━━━━━━━\u001b[0m\u001b[37m\u001b[0m \u001b[1m2s\u001b[0m 534ms/step - accuracy: 0.6598 - loss: 1.8468 - val_accuracy: 0.7360 - val_loss: 1.8586\n",
            "Epoch 32/100\n",
            "\u001b[1m2/2\u001b[0m \u001b[32m━━━━━━━━━━━━━━━━━━━━\u001b[0m\u001b[37m\u001b[0m \u001b[1m3s\u001b[0m 570ms/step - accuracy: 0.6615 - loss: 1.8368 - val_accuracy: 0.7360 - val_loss: 1.8546\n",
            "Epoch 33/100\n",
            "\u001b[1m2/2\u001b[0m \u001b[32m━━━━━━━━━━━━━━━━━━━━\u001b[0m\u001b[37m\u001b[0m \u001b[1m3s\u001b[0m 867ms/step - accuracy: 0.6616 - loss: 1.8329 - val_accuracy: 0.7360 - val_loss: 1.8518\n",
            "Epoch 34/100\n",
            "\u001b[1m2/2\u001b[0m \u001b[32m━━━━━━━━━━━━━━━━━━━━\u001b[0m\u001b[37m\u001b[0m \u001b[1m2s\u001b[0m 571ms/step - accuracy: 0.6657 - loss: 1.8061 - val_accuracy: 0.7440 - val_loss: 1.8500\n",
            "Epoch 35/100\n",
            "\u001b[1m2/2\u001b[0m \u001b[32m━━━━━━━━━━━━━━━━━━━━\u001b[0m\u001b[37m\u001b[0m \u001b[1m3s\u001b[0m 603ms/step - accuracy: 0.6513 - loss: 1.8763 - val_accuracy: 0.7440 - val_loss: 1.8490\n",
            "Epoch 36/100\n",
            "\u001b[1m2/2\u001b[0m \u001b[32m━━━━━━━━━━━━━━━━━━━━\u001b[0m\u001b[37m\u001b[0m \u001b[1m3s\u001b[0m 625ms/step - accuracy: 0.6648 - loss: 1.8014 - val_accuracy: 0.7440 - val_loss: 1.8475\n",
            "Epoch 37/100\n",
            "\u001b[1m2/2\u001b[0m \u001b[32m━━━━━━━━━━━━━━━━━━━━\u001b[0m\u001b[37m\u001b[0m \u001b[1m1s\u001b[0m 554ms/step - accuracy: 0.6678 - loss: 1.8023 - val_accuracy: 0.7520 - val_loss: 1.8446\n",
            "Epoch 38/100\n",
            "\u001b[1m2/2\u001b[0m \u001b[32m━━━━━━━━━━━━━━━━━━━━\u001b[0m\u001b[37m\u001b[0m \u001b[1m1s\u001b[0m 555ms/step - accuracy: 0.6633 - loss: 1.8246 - val_accuracy: 0.7480 - val_loss: 1.8421\n",
            "Epoch 39/100\n",
            "\u001b[1m2/2\u001b[0m \u001b[32m━━━━━━━━━━━━━━━━━━━━\u001b[0m\u001b[37m\u001b[0m \u001b[1m1s\u001b[0m 688ms/step - accuracy: 0.6750 - loss: 1.7582 - val_accuracy: 0.7520 - val_loss: 1.8380\n",
            "Epoch 40/100\n",
            "\u001b[1m2/2\u001b[0m \u001b[32m━━━━━━━━━━━━━━━━━━━━\u001b[0m\u001b[37m\u001b[0m \u001b[1m2s\u001b[0m 916ms/step - accuracy: 0.6730 - loss: 1.7672 - val_accuracy: 0.7520 - val_loss: 1.8323\n",
            "Epoch 41/100\n",
            "\u001b[1m2/2\u001b[0m \u001b[32m━━━━━━━━━━━━━━━━━━━━\u001b[0m\u001b[37m\u001b[0m \u001b[1m1s\u001b[0m 559ms/step - accuracy: 0.6864 - loss: 1.6982 - val_accuracy: 0.7520 - val_loss: 1.8282\n",
            "Epoch 42/100\n",
            "\u001b[1m2/2\u001b[0m \u001b[32m━━━━━━━━━━━━━━━━━━━━\u001b[0m\u001b[37m\u001b[0m \u001b[1m1s\u001b[0m 541ms/step - accuracy: 0.6729 - loss: 1.7593 - val_accuracy: 0.7520 - val_loss: 1.8260\n",
            "Epoch 43/100\n",
            "\u001b[1m2/2\u001b[0m \u001b[32m━━━━━━━━━━━━━━━━━━━━\u001b[0m\u001b[37m\u001b[0m \u001b[1m1s\u001b[0m 550ms/step - accuracy: 0.6892 - loss: 1.6546 - val_accuracy: 0.7520 - val_loss: 1.8213\n",
            "Epoch 44/100\n",
            "\u001b[1m2/2\u001b[0m \u001b[32m━━━━━━━━━━━━━━━━━━━━\u001b[0m\u001b[37m\u001b[0m \u001b[1m1s\u001b[0m 539ms/step - accuracy: 0.6782 - loss: 1.7003 - val_accuracy: 0.7520 - val_loss: 1.8146\n",
            "Epoch 45/100\n",
            "\u001b[1m2/2\u001b[0m \u001b[32m━━━━━━━━━━━━━━━━━━━━\u001b[0m\u001b[37m\u001b[0m \u001b[1m1s\u001b[0m 629ms/step - accuracy: 0.6834 - loss: 1.6611 - val_accuracy: 0.7600 - val_loss: 1.8119\n",
            "Epoch 46/100\n",
            "\u001b[1m2/2\u001b[0m \u001b[32m━━━━━━━━━━━━━━━━━━━━\u001b[0m\u001b[37m\u001b[0m \u001b[1m1s\u001b[0m 562ms/step - accuracy: 0.6955 - loss: 1.6181 - val_accuracy: 0.7560 - val_loss: 1.8047\n",
            "Epoch 47/100\n",
            "\u001b[1m2/2\u001b[0m \u001b[32m━━━━━━━━━━━━━━━━━━━━\u001b[0m\u001b[37m\u001b[0m \u001b[1m3s\u001b[0m 648ms/step - accuracy: 0.6835 - loss: 1.6696 - val_accuracy: 0.7560 - val_loss: 1.8004\n",
            "Epoch 48/100\n",
            "\u001b[1m2/2\u001b[0m \u001b[32m━━━━━━━━━━━━━━━━━━━━\u001b[0m\u001b[37m\u001b[0m \u001b[1m2s\u001b[0m 864ms/step - accuracy: 0.6995 - loss: 1.5847 - val_accuracy: 0.7600 - val_loss: 1.7988\n",
            "Epoch 49/100\n",
            "\u001b[1m2/2\u001b[0m \u001b[32m━━━━━━━━━━━━━━━━━━━━\u001b[0m\u001b[37m\u001b[0m \u001b[1m2s\u001b[0m 535ms/step - accuracy: 0.6989 - loss: 1.6161 - val_accuracy: 0.7600 - val_loss: 1.7911\n",
            "Epoch 50/100\n",
            "\u001b[1m2/2\u001b[0m \u001b[32m━━━━━━━━━━━━━━━━━━━━\u001b[0m\u001b[37m\u001b[0m \u001b[1m1s\u001b[0m 529ms/step - accuracy: 0.7088 - loss: 1.5531 - val_accuracy: 0.7600 - val_loss: 1.7818\n",
            "Epoch 51/100\n",
            "\u001b[1m2/2\u001b[0m \u001b[32m━━━━━━━━━━━━━━━━━━━━\u001b[0m\u001b[37m\u001b[0m \u001b[1m1s\u001b[0m 571ms/step - accuracy: 0.7015 - loss: 1.5829 - val_accuracy: 0.7640 - val_loss: 1.7785\n",
            "Epoch 52/100\n",
            "\u001b[1m2/2\u001b[0m \u001b[32m━━━━━━━━━━━━━━━━━━━━\u001b[0m\u001b[37m\u001b[0m \u001b[1m3s\u001b[0m 579ms/step - accuracy: 0.7014 - loss: 1.5787 - val_accuracy: 0.7720 - val_loss: 1.7726\n",
            "Epoch 53/100\n",
            "\u001b[1m2/2\u001b[0m \u001b[32m━━━━━━━━━━━━━━━━━━━━\u001b[0m\u001b[37m\u001b[0m \u001b[1m2s\u001b[0m 562ms/step - accuracy: 0.7095 - loss: 1.5451 - val_accuracy: 0.7680 - val_loss: 1.7651\n",
            "Epoch 54/100\n",
            "\u001b[1m2/2\u001b[0m \u001b[32m━━━━━━━━━━━━━━━━━━━━\u001b[0m\u001b[37m\u001b[0m \u001b[1m1s\u001b[0m 628ms/step - accuracy: 0.7197 - loss: 1.4967 - val_accuracy: 0.7760 - val_loss: 1.7618\n",
            "Epoch 55/100\n",
            "\u001b[1m2/2\u001b[0m \u001b[32m━━━━━━━━━━━━━━━━━━━━\u001b[0m\u001b[37m\u001b[0m \u001b[1m3s\u001b[0m 581ms/step - accuracy: 0.7176 - loss: 1.5193 - val_accuracy: 0.7840 - val_loss: 1.7567\n",
            "Epoch 56/100\n",
            "\u001b[1m2/2\u001b[0m \u001b[32m━━━━━━━━━━━━━━━━━━━━\u001b[0m\u001b[37m\u001b[0m \u001b[1m2s\u001b[0m 547ms/step - accuracy: 0.7274 - loss: 1.4573 - val_accuracy: 0.7800 - val_loss: 1.7520\n",
            "Epoch 57/100\n",
            "\u001b[1m2/2\u001b[0m \u001b[32m━━━━━━━━━━━━━━━━━━━━\u001b[0m\u001b[37m\u001b[0m \u001b[1m1s\u001b[0m 575ms/step - accuracy: 0.7269 - loss: 1.4629 - val_accuracy: 0.7840 - val_loss: 1.7497\n",
            "Epoch 58/100\n",
            "\u001b[1m2/2\u001b[0m \u001b[32m━━━━━━━━━━━━━━━━━━━━\u001b[0m\u001b[37m\u001b[0m \u001b[1m1s\u001b[0m 547ms/step - accuracy: 0.7320 - loss: 1.4362 - val_accuracy: 0.7840 - val_loss: 1.7452\n",
            "Epoch 59/100\n",
            "\u001b[1m2/2\u001b[0m \u001b[32m━━━━━━━━━━━━━━━━━━━━\u001b[0m\u001b[37m\u001b[0m \u001b[1m1s\u001b[0m 634ms/step - accuracy: 0.7337 - loss: 1.4248 - val_accuracy: 0.7840 - val_loss: 1.7371\n",
            "Epoch 60/100\n",
            "\u001b[1m2/2\u001b[0m \u001b[32m━━━━━━━━━━━━━━━━━━━━\u001b[0m\u001b[37m\u001b[0m \u001b[1m1s\u001b[0m 570ms/step - accuracy: 0.7372 - loss: 1.4004 - val_accuracy: 0.7840 - val_loss: 1.7342\n",
            "Epoch 61/100\n",
            "\u001b[1m2/2\u001b[0m \u001b[32m━━━━━━━━━━━━━━━━━━━━\u001b[0m\u001b[37m\u001b[0m \u001b[1m1s\u001b[0m 622ms/step - accuracy: 0.7348 - loss: 1.4161 - val_accuracy: 0.7840 - val_loss: 1.7292\n",
            "Epoch 62/100\n",
            "\u001b[1m2/2\u001b[0m \u001b[32m━━━━━━━━━━━━━━━━━━━━\u001b[0m\u001b[37m\u001b[0m \u001b[1m2s\u001b[0m 815ms/step - accuracy: 0.7434 - loss: 1.3454 - val_accuracy: 0.7840 - val_loss: 1.7228\n",
            "Epoch 63/100\n",
            "\u001b[1m2/2\u001b[0m \u001b[32m━━━━━━━━━━━━━━━━━━━━\u001b[0m\u001b[37m\u001b[0m \u001b[1m2s\u001b[0m 546ms/step - accuracy: 0.7377 - loss: 1.3749 - val_accuracy: 0.7880 - val_loss: 1.7224\n",
            "Epoch 64/100\n",
            "\u001b[1m2/2\u001b[0m \u001b[32m━━━━━━━━━━━━━━━━━━━━\u001b[0m\u001b[37m\u001b[0m \u001b[1m1s\u001b[0m 554ms/step - accuracy: 0.7376 - loss: 1.3768 - val_accuracy: 0.7880 - val_loss: 1.7160\n",
            "Epoch 65/100\n",
            "\u001b[1m2/2\u001b[0m \u001b[32m━━━━━━━━━━━━━━━━━━━━\u001b[0m\u001b[37m\u001b[0m \u001b[1m1s\u001b[0m 552ms/step - accuracy: 0.7496 - loss: 1.3100 - val_accuracy: 0.7920 - val_loss: 1.7158\n",
            "Epoch 66/100\n",
            "\u001b[1m2/2\u001b[0m \u001b[32m━━━━━━━━━━━━━━━━━━━━\u001b[0m\u001b[37m\u001b[0m \u001b[1m1s\u001b[0m 559ms/step - accuracy: 0.7503 - loss: 1.2997 - val_accuracy: 0.7920 - val_loss: 1.7111\n",
            "Epoch 67/100\n",
            "\u001b[1m2/2\u001b[0m \u001b[32m━━━━━━━━━━━━━━━━━━━━\u001b[0m\u001b[37m\u001b[0m \u001b[1m1s\u001b[0m 620ms/step - accuracy: 0.7495 - loss: 1.2961 - val_accuracy: 0.7920 - val_loss: 1.7019\n",
            "Epoch 68/100\n",
            "\u001b[1m2/2\u001b[0m \u001b[32m━━━━━━━━━━━━━━━━━━━━\u001b[0m\u001b[37m\u001b[0m \u001b[1m1s\u001b[0m 558ms/step - accuracy: 0.7538 - loss: 1.2620 - val_accuracy: 0.7960 - val_loss: 1.7031\n",
            "Epoch 69/100\n",
            "\u001b[1m2/2\u001b[0m \u001b[32m━━━━━━━━━━━━━━━━━━━━\u001b[0m\u001b[37m\u001b[0m \u001b[1m1s\u001b[0m 551ms/step - accuracy: 0.7528 - loss: 1.2570 - val_accuracy: 0.7960 - val_loss: 1.6935\n",
            "Epoch 70/100\n",
            "\u001b[1m2/2\u001b[0m \u001b[32m━━━━━━━━━━━━━━━━━━━━\u001b[0m\u001b[37m\u001b[0m \u001b[1m1s\u001b[0m 618ms/step - accuracy: 0.7519 - loss: 1.2509 - val_accuracy: 0.7960 - val_loss: 1.6937\n",
            "Epoch 71/100\n",
            "\u001b[1m2/2\u001b[0m \u001b[32m━━━━━━━━━━━━━━━━━━━━\u001b[0m\u001b[37m\u001b[0m \u001b[1m2s\u001b[0m 932ms/step - accuracy: 0.7608 - loss: 1.2010 - val_accuracy: 0.7960 - val_loss: 1.6914\n",
            "Epoch 72/100\n",
            "\u001b[1m2/2\u001b[0m \u001b[32m━━━━━━━━━━━━━━━━━━━━\u001b[0m\u001b[37m\u001b[0m \u001b[1m2s\u001b[0m 550ms/step - accuracy: 0.7662 - loss: 1.1775 - val_accuracy: 0.7960 - val_loss: 1.6867\n",
            "Epoch 73/100\n",
            "\u001b[1m2/2\u001b[0m \u001b[32m━━━━━━━━━━━━━━━━━━━━\u001b[0m\u001b[37m\u001b[0m \u001b[1m3s\u001b[0m 617ms/step - accuracy: 0.7664 - loss: 1.1836 - val_accuracy: 0.7960 - val_loss: 1.6904\n",
            "Epoch 74/100\n",
            "\u001b[1m2/2\u001b[0m \u001b[32m━━━━━━━━━━━━━━━━━━━━\u001b[0m\u001b[37m\u001b[0m \u001b[1m1s\u001b[0m 630ms/step - accuracy: 0.7680 - loss: 1.1636 - val_accuracy: 0.8000 - val_loss: 1.6854\n",
            "Epoch 75/100\n",
            "\u001b[1m2/2\u001b[0m \u001b[32m━━━━━━━━━━━━━━━━━━━━\u001b[0m\u001b[37m\u001b[0m \u001b[1m1s\u001b[0m 606ms/step - accuracy: 0.7687 - loss: 1.1591 - val_accuracy: 0.8000 - val_loss: 1.6828\n",
            "Epoch 76/100\n",
            "\u001b[1m2/2\u001b[0m \u001b[32m━━━━━━━━━━━━━━━━━━━━\u001b[0m\u001b[37m\u001b[0m \u001b[1m3s\u001b[0m 604ms/step - accuracy: 0.7789 - loss: 1.1067 - val_accuracy: 0.8000 - val_loss: 1.6776\n",
            "Epoch 77/100\n",
            "\u001b[1m2/2\u001b[0m \u001b[32m━━━━━━━━━━━━━━━━━━━━\u001b[0m\u001b[37m\u001b[0m \u001b[1m3s\u001b[0m 912ms/step - accuracy: 0.7755 - loss: 1.1357 - val_accuracy: 0.8000 - val_loss: 1.6731\n",
            "Epoch 78/100\n",
            "\u001b[1m2/2\u001b[0m \u001b[32m━━━━━━━━━━━━━━━━━━━━\u001b[0m\u001b[37m\u001b[0m \u001b[1m2s\u001b[0m 524ms/step - accuracy: 0.7929 - loss: 1.0486 - val_accuracy: 0.8000 - val_loss: 1.6747\n",
            "Epoch 79/100\n",
            "\u001b[1m2/2\u001b[0m \u001b[32m━━━━━━━━━━━━━━━━━━━━\u001b[0m\u001b[37m\u001b[0m \u001b[1m1s\u001b[0m 624ms/step - accuracy: 0.7888 - loss: 1.0765 - val_accuracy: 0.8000 - val_loss: 1.6735\n",
            "Epoch 80/100\n",
            "\u001b[1m2/2\u001b[0m \u001b[32m━━━━━━━━━━━━━━━━━━━━\u001b[0m\u001b[37m\u001b[0m \u001b[1m3s\u001b[0m 585ms/step - accuracy: 0.7965 - loss: 1.0378 - val_accuracy: 0.8000 - val_loss: 1.6740\n",
            "Epoch 81/100\n",
            "\u001b[1m2/2\u001b[0m \u001b[32m━━━━━━━━━━━━━━━━━━━━\u001b[0m\u001b[37m\u001b[0m \u001b[1m3s\u001b[0m 639ms/step - accuracy: 0.8016 - loss: 1.0049 - val_accuracy: 0.8000 - val_loss: 1.6687\n",
            "Epoch 82/100\n",
            "\u001b[1m2/2\u001b[0m \u001b[32m━━━━━━━━━━━━━━━━━━━━\u001b[0m\u001b[37m\u001b[0m \u001b[1m1s\u001b[0m 644ms/step - accuracy: 0.7979 - loss: 1.0498 - val_accuracy: 0.8040 - val_loss: 1.6684\n",
            "Epoch 83/100\n",
            "\u001b[1m2/2\u001b[0m \u001b[32m━━━━━━━━━━━━━━━━━━━━\u001b[0m\u001b[37m\u001b[0m \u001b[1m3s\u001b[0m 785ms/step - accuracy: 0.8044 - loss: 1.0002 - val_accuracy: 0.8040 - val_loss: 1.6713\n",
            "Epoch 84/100\n",
            "\u001b[1m2/2\u001b[0m \u001b[32m━━━━━━━━━━━━━━━━━━━━\u001b[0m\u001b[37m\u001b[0m \u001b[1m2s\u001b[0m 545ms/step - accuracy: 0.8035 - loss: 1.0133 - val_accuracy: 0.8040 - val_loss: 1.6655\n",
            "Epoch 85/100\n",
            "\u001b[1m2/2\u001b[0m \u001b[32m━━━━━━━━━━━━━━━━━━━━\u001b[0m\u001b[37m\u001b[0m \u001b[1m1s\u001b[0m 650ms/step - accuracy: 0.8149 - loss: 0.9579 - val_accuracy: 0.8040 - val_loss: 1.6627\n",
            "Epoch 86/100\n",
            "\u001b[1m2/2\u001b[0m \u001b[32m━━━━━━━━━━━━━━━━━━━━\u001b[0m\u001b[37m\u001b[0m \u001b[1m3s\u001b[0m 626ms/step - accuracy: 0.8218 - loss: 0.9523 - val_accuracy: 0.8080 - val_loss: 1.6656\n",
            "Epoch 87/100\n",
            "\u001b[1m2/2\u001b[0m \u001b[32m━━━━━━━━━━━━━━━━━━━━\u001b[0m\u001b[37m\u001b[0m \u001b[1m2s\u001b[0m 590ms/step - accuracy: 0.8238 - loss: 0.9366 - val_accuracy: 0.8080 - val_loss: 1.6643\n",
            "Epoch 88/100\n",
            "\u001b[1m2/2\u001b[0m \u001b[32m━━━━━━━━━━━━━━━━━━━━\u001b[0m\u001b[37m\u001b[0m \u001b[1m1s\u001b[0m 619ms/step - accuracy: 0.8266 - loss: 0.9285 - val_accuracy: 0.8080 - val_loss: 1.6610\n",
            "Epoch 89/100\n",
            "\u001b[1m2/2\u001b[0m \u001b[32m━━━━━━━━━━━━━━━━━━━━\u001b[0m\u001b[37m\u001b[0m \u001b[1m2s\u001b[0m 943ms/step - accuracy: 0.8341 - loss: 0.9111 - val_accuracy: 0.8160 - val_loss: 1.6633\n",
            "Epoch 90/100\n",
            "\u001b[1m2/2\u001b[0m \u001b[32m━━━━━━━━━━━━━━━━━━━━\u001b[0m\u001b[37m\u001b[0m \u001b[1m2s\u001b[0m 544ms/step - accuracy: 0.8384 - loss: 0.8880 - val_accuracy: 0.8120 - val_loss: 1.6588\n",
            "Epoch 91/100\n",
            "\u001b[1m2/2\u001b[0m \u001b[32m━━━━━━━━━━━━━━━━━━━━\u001b[0m\u001b[37m\u001b[0m \u001b[1m1s\u001b[0m 551ms/step - accuracy: 0.8385 - loss: 0.8856 - val_accuracy: 0.8160 - val_loss: 1.6600\n",
            "Epoch 92/100\n",
            "\u001b[1m2/2\u001b[0m \u001b[32m━━━━━━━━━━━━━━━━━━━━\u001b[0m\u001b[37m\u001b[0m \u001b[1m1s\u001b[0m 537ms/step - accuracy: 0.8401 - loss: 0.8822 - val_accuracy: 0.8120 - val_loss: 1.6611\n",
            "Epoch 93/100\n",
            "\u001b[1m2/2\u001b[0m \u001b[32m━━━━━━━━━━━━━━━━━━━━\u001b[0m\u001b[37m\u001b[0m \u001b[1m1s\u001b[0m 561ms/step - accuracy: 0.8518 - loss: 0.8559 - val_accuracy: 0.8120 - val_loss: 1.6634\n",
            "Epoch 94/100\n",
            "\u001b[1m2/2\u001b[0m \u001b[32m━━━━━━━━━━━━━━━━━━━━\u001b[0m\u001b[37m\u001b[0m \u001b[1m1s\u001b[0m 560ms/step - accuracy: 0.8528 - loss: 0.8476 - val_accuracy: 0.8160 - val_loss: 1.6633\n",
            "Epoch 95/100\n",
            "\u001b[1m2/2\u001b[0m \u001b[32m━━━━━━━━━━━━━━━━━━━━\u001b[0m\u001b[37m\u001b[0m \u001b[1m1s\u001b[0m 570ms/step - accuracy: 0.8635 - loss: 0.8075 - val_accuracy: 0.8120 - val_loss: 1.6520\n",
            "Epoch 96/100\n",
            "\u001b[1m2/2\u001b[0m \u001b[32m━━━━━━━━━━━━━━━━━━━━\u001b[0m\u001b[37m\u001b[0m \u001b[1m1s\u001b[0m 592ms/step - accuracy: 0.8751 - loss: 0.8020 - val_accuracy: 0.8160 - val_loss: 1.6550\n",
            "Epoch 97/100\n",
            "\u001b[1m2/2\u001b[0m \u001b[32m━━━━━━━━━━━━━━━━━━━━\u001b[0m\u001b[37m\u001b[0m \u001b[1m1s\u001b[0m 625ms/step - accuracy: 0.8810 - loss: 0.7942 - val_accuracy: 0.8120 - val_loss: 1.6532\n",
            "Epoch 98/100\n",
            "\u001b[1m2/2\u001b[0m \u001b[32m━━━━━━━━━━━━━━━━━━━━\u001b[0m\u001b[37m\u001b[0m \u001b[1m3s\u001b[0m 593ms/step - accuracy: 0.8843 - loss: 0.7755 - val_accuracy: 0.8120 - val_loss: 1.6598\n",
            "Epoch 99/100\n",
            "\u001b[1m2/2\u001b[0m \u001b[32m━━━━━━━━━━━━━━━━━━━━\u001b[0m\u001b[37m\u001b[0m \u001b[1m2s\u001b[0m 547ms/step - accuracy: 0.8861 - loss: 0.7695 - val_accuracy: 0.8120 - val_loss: 1.6546\n",
            "Epoch 100/100\n",
            "\u001b[1m2/2\u001b[0m \u001b[32m━━━━━━━━━━━━━━━━━━━━\u001b[0m\u001b[37m\u001b[0m \u001b[1m3s\u001b[0m 635ms/step - accuracy: 0.8952 - loss: 0.7220 - val_accuracy: 0.8120 - val_loss: 1.6625\n"
          ]
        }
      ]
    },
    {
      "cell_type": "markdown",
      "id": "ef9c37bf",
      "metadata": {
        "id": "ef9c37bf"
      },
      "source": [
        "---\n",
        "\n",
        "### **4. 對話生成機制**\n",
        "\n",
        "**狀態傳遞與動態預測**"
      ]
    },
    {
      "cell_type": "code",
      "execution_count": 26,
      "id": "78982f85",
      "metadata": {
        "id": "78982f85"
      },
      "outputs": [],
      "source": [
        "# 編碼器推論模型\n",
        "encoder_model = Model(encoder_input, encoder_states)\n",
        "\n",
        "# 解碼器推論模型\n",
        "decoder_state_input_h = Input(shape=(256,))\n",
        "decoder_state_input_c = Input(shape=(256,))\n",
        "decoder_states_inputs = [decoder_state_input_h, decoder_state_input_c]\n",
        "\n",
        "decoder_outputs, state_h, state_c = decoder_lstm(decoder_embed, initial_state=decoder_states_inputs)\n",
        "decoder_states = [state_h, state_c]\n",
        "decoder_model = Model([decoder_input] + decoder_states_inputs,\n",
        "                      [decoder_outputs] + decoder_states)"
      ]
    },
    {
      "cell_type": "markdown",
      "id": "92347248",
      "metadata": {
        "id": "92347248"
      },
      "source": [
        "**回應生成函數**"
      ]
    },
    {
      "cell_type": "code",
      "execution_count": 27,
      "id": "c60edbc4",
      "metadata": {
        "id": "c60edbc4"
      },
      "outputs": [],
      "source": [
        "def generate_response(input_seq):\n",
        "    states_value = encoder_model.predict(input_seq)\n",
        "    target_seq = np.zeros((1, 1))\n",
        "    response = []\n",
        "    for _ in range(max_length):\n",
        "        output_tokens, h, c = decoder_model.predict([target_seq] + states_value)\n",
        "        sampled_token_index = np.argmax(output_tokens[0, -1, :])\n",
        "        sampled_word = index_word[sampled_token_index]\n",
        "        response.append(sampled_word)\n",
        "        if sampled_word == '&lt;END&gt;':\n",
        "            break\n",
        "        target_seq = np.zeros((1, 1))\n",
        "        target_seq[0, 0] = sampled_token_index\n",
        "        states_value = [h, c]\n",
        "    return ' '.join(response)"
      ]
    },
    {
      "cell_type": "markdown",
      "id": "81b1fffb",
      "metadata": {
        "id": "81b1fffb"
      },
      "source": [
        "---\n",
        "\n",
        "### **5. 實用技巧與優化**\n",
        "\n",
        "- **注意力機制**：添加Bahdanau注意力層提升長文本處理能力[^2][^3]\n",
        "- **遷移學習**：使用預訓練詞向量（如Word2Vec）加速收斂\n",
        "- **數據增強**：通過同義詞替換擴充訓練樣本\n",
        "- **混合架構**：結合規則式回應（如AIML模板[^1]）提升基礎問答穩定性\n",
        "\n",
        "---\n",
        "\n",
        "### **6. 部署與測試**\n",
        "\n",
        "**API服務化**\n",
        "使用Flask框架建立HTTP端點："
      ]
    },
    {
      "cell_type": "code",
      "execution_count": 28,
      "id": "300d1e92",
      "metadata": {
        "id": "300d1e92"
      },
      "outputs": [],
      "source": [
        "from flask import Flask, request\n",
        "app = Flask(__name__)\n",
        "\n",
        "@app.route('/chat', methods=['POST'])\n",
        "def chat():\n",
        "    user_input = request.json['msg']\n",
        "    processed_input = preprocess(user_input)\n",
        "    response = generate_response(processed_input)\n",
        "    return {'response': response}"
      ]
    },
    {
      "cell_type": "markdown",
      "id": "ca12476e",
      "metadata": {
        "id": "ca12476e"
      },
      "source": [
        "**GUI介面整合**\n",
        "參考PyQt或Tkinter實現互動界面[^4][^7]，包含：\n",
        "\n",
        "- 輸入文字框\n",
        "- 對話歷史顯示區\n",
        "- 發送按鈕與即時回應功能\n",
        "\n",
        "---\n",
        "\n",
        "此架構能有效結合特定領域知識（參考文章內容）與上下文對話能力，實際應用時需根據文本特性調整詞表大小與LSTM層數，並通過BLEU分數等指標持續優化生成質量[^5][^6]。\n",
        "\n",
        "<div>⁂</div>\n",
        "\n",
        "[^1]: https://hub.packtpub.com/build-generative-chatbot-using-recurrent-neural-networks-lstm-rnns/\n",
        "\n",
        "[^2]: https://ijiet.com/wp-content/uploads/2019/10/32.pdf\n",
        "\n",
        "[^3]: https://github.com/ShrishtiHore/Conversational_Chatbot_using_LSTM\n",
        "\n",
        "[^4]: https://github.com/tridibsamanta/Chatbot-using-Python\n",
        "\n",
        "[^5]: https://www.semanticscholar.org/paper/Automated-Thai-FAQ-Chatbot-using-RNN-LSTM-Muangkammuen-Intiruk/c278680868ad4d03431ab92bf404431f4fb9478e\n",
        "\n",
        "[^6]: https://hub.packtpub.com/build-and-train-rnn-chatbot-using-tensorflow/\n",
        "\n",
        "[^7]: https://github.com/AnMol12499/LSTM_based_chatbot\n",
        "\n",
        "[^8]: https://github.com/AdroitAnandAI/LSTM-Attention-based-Generative-Chat-bot/blob/master/README.md\n",
        "\n",
        "[^9]: https://www.semanticscholar.org/paper/Chatterbot-implementation-using-Transfer-Learning-Prakash/b41c4c1f4b3a33fd2dbe7e9be29fee5a6ce1c81c\n",
        "\n",
        "[^10]: https://www.packtpub.com/en-jp/learning/how-to-tutorials/build-generative-chatbot-using-recurrent-neural-networks-lstm-rnns?fallbackPlaceholder=en-gb%2Flearning%2Fhow-to-tutorials%2Fbuild-generative-chatbot-using-recurrent-neural-networks-lstm-rnns\n",
        "\n",
        "[^11]: https://www.taylorfrancis.com/chapters/edit/10.1201/9781003357346-75/development-chatbot-using-lstm-architecture-seq2seq-model-adil-tanmaya-garg-rajesh-kumar\n",
        "\n",
        "[^12]: https://github.com/AdroitAnandAI/LSTM-Attention-based-Generative-Chat-bot\n",
        "\n",
        "[^13]: https://dl.acm.org/doi/10.1145/3529649\n",
        "\n",
        "[^14]: https://ijisae.org/index.php/IJISAE/article/view/6100\n",
        "\n",
        "[^15]: https://www.datasciencecentral.com/under-the-hood-with-chatbots/\n",
        "\n",
        "[^16]: http://www.warse.org/IJETER/static/pdf/file/ijeter35852020.pdf\n",
        "\n",
        "[^17]: https://pdfs.semanticscholar.org/be96/353bdbf2803d8cf2d1f6556d7f92f0f4adcb.pdf\n",
        "\n",
        "[^18]: https://medium.com/@Scofield_Idehen/building-nlp-chatbots-with-pytorch-c4447604c974\n",
        "\n",
        "[^19]: https://github.com/rshinde03/AI-Self-learning-Chatbot"
      ]
    },
    {
      "source": [
        "from flask import Flask, request, jsonify\n",
        "\n",
        "app = Flask(__name__)\n",
        "\n",
        "@app.route('/chat', methods=['POST'])\n",
        "def chat():\n",
        "    user_input = request.json['msg']\n",
        "    # Replace preprocess and generate_response with your actual functions\n",
        "    # For demonstration, I'm using a placeholder\n",
        "    # processed_input = preprocess(user_input)\n",
        "    # response = generate_response(processed_input)\n",
        "    response = \"This is a placeholder response.\"\n",
        "    return jsonify({'response': response})\n",
        "\n",
        "\n",
        "if __name__ == '__main__':\n",
        "    app.run(debug=True) # Start the Flask development server"
      ],
      "cell_type": "code",
      "metadata": {
        "id": "5VNtJavb3b0e",
        "outputId": "4a2af588-ba23-40af-f2dc-1123738e8c6a",
        "colab": {
          "base_uri": "https://localhost:8080/"
        }
      },
      "id": "5VNtJavb3b0e",
      "execution_count": 30,
      "outputs": [
        {
          "output_type": "stream",
          "name": "stdout",
          "text": [
            " * Serving Flask app '__main__'\n",
            " * Debug mode: on\n"
          ]
        },
        {
          "output_type": "stream",
          "name": "stderr",
          "text": [
            "INFO:werkzeug:\u001b[31m\u001b[1mWARNING: This is a development server. Do not use it in a production deployment. Use a production WSGI server instead.\u001b[0m\n",
            " * Running on http://127.0.0.1:5000\n",
            "INFO:werkzeug:\u001b[33mPress CTRL+C to quit\u001b[0m\n",
            "INFO:werkzeug: * Restarting with stat\n"
          ]
        }
      ]
    },
    {
      "source": [
        "curl -X POST -H \"Content-Type: application/json\" -d '{\"msg\": \"Hello\"}' http://localhost:5000/chat"
      ],
      "cell_type": "code",
      "metadata": {
        "id": "DD-84tfU3dRH",
        "outputId": "fcc3aa7a-b088-499b-aae8-f18d69a9bb8e",
        "colab": {
          "base_uri": "https://localhost:8080/",
          "height": 106
        }
      },
      "id": "DD-84tfU3dRH",
      "execution_count": 32,
      "outputs": [
        {
          "output_type": "error",
          "ename": "SyntaxError",
          "evalue": "invalid syntax (<ipython-input-32-13bc646efbc0>, line 1)",
          "traceback": [
            "\u001b[0;36m  File \u001b[0;32m\"<ipython-input-32-13bc646efbc0>\"\u001b[0;36m, line \u001b[0;32m1\u001b[0m\n\u001b[0;31m    curl -X POST -H \"Content-Type: application/json\" -d '{\"msg\": \"Hello\"}' http://localhost:5000/chat\u001b[0m\n\u001b[0m            ^\u001b[0m\n\u001b[0;31mSyntaxError\u001b[0m\u001b[0;31m:\u001b[0m invalid syntax\n"
          ]
        }
      ]
    },
    {
      "source": [
        "import requests\n",
        "\n",
        "       response = requests.post('http://localhost:5000/chat', json={'msg': 'Hello'})\n",
        "       print(response.json())"
      ],
      "cell_type": "code",
      "metadata": {
        "id": "tOBhRxf93eQf",
        "outputId": "4e946e16-2cbf-45df-a8b1-0678b59b073e",
        "colab": {
          "base_uri": "https://localhost:8080/",
          "height": 106
        }
      },
      "id": "tOBhRxf93eQf",
      "execution_count": 33,
      "outputs": [
        {
          "output_type": "error",
          "ename": "IndentationError",
          "evalue": "unexpected indent (<ipython-input-33-f3c5d10bf41b>, line 3)",
          "traceback": [
            "\u001b[0;36m  File \u001b[0;32m\"<ipython-input-33-f3c5d10bf41b>\"\u001b[0;36m, line \u001b[0;32m3\u001b[0m\n\u001b[0;31m    response = requests.post('http://localhost:5000/chat', json={'msg': 'Hello'})\u001b[0m\n\u001b[0m    ^\u001b[0m\n\u001b[0;31mIndentationError\u001b[0m\u001b[0;31m:\u001b[0m unexpected indent\n"
          ]
        }
      ]
    }
  ],
  "metadata": {
    "colab": {
      "provenance": [],
      "include_colab_link": true
    },
    "language_info": {
      "name": "python"
    },
    "kernelspec": {
      "name": "python3",
      "display_name": "Python 3"
    }
  },
  "nbformat": 4,
  "nbformat_minor": 5
}