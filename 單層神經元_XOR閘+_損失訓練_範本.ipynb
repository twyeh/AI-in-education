{
  "nbformat": 4,
  "nbformat_minor": 0,
  "metadata": {
    "colab": {
      "provenance": [],
      "authorship_tag": "ABX9TyP4R0f+kfcIHNIxkY7nAlRi",
      "include_colab_link": true
    },
    "kernelspec": {
      "name": "python3",
      "display_name": "Python 3"
    },
    "language_info": {
      "name": "python"
    }
  },
  "cells": [
    {
      "cell_type": "markdown",
      "metadata": {
        "id": "view-in-github",
        "colab_type": "text"
      },
      "source": [
        "<a href=\"https://colab.research.google.com/github/twyeh/AI-in-education/blob/main/%E5%96%AE%E5%B1%A4%E7%A5%9E%E7%B6%93%E5%85%83_XOR%E9%96%98%2B_%E6%90%8D%E5%A4%B1%E8%A8%93%E7%B7%B4_%E7%AF%84%E6%9C%AC.ipynb\" target=\"_parent\"><img src=\"https://colab.research.google.com/assets/colab-badge.svg\" alt=\"Open In Colab\"/></a>"
      ]
    },
    {
      "cell_type": "markdown",
      "source": [
        "**目標**\n",
        "\n",
        "1. 設計一個一位元XOR閘模擬類神經元網路\n",
        "2. 透過計算學習損失函數進行學習訓練"
      ],
      "metadata": {
        "id": "weaewv_3rEvZ"
      }
    },
    {
      "cell_type": "markdown",
      "source": [
        "步驟 1：導入必要的函式庫"
      ],
      "metadata": {
        "id": "DIqvgIHMrCEs"
      }
    },
    {
      "source": [
        "import numpy as np"
      ],
      "cell_type": "code",
      "metadata": {
        "id": "emPOv5oBqodI"
      },
      "execution_count": 8,
      "outputs": []
    },
    {
      "cell_type": "markdown",
      "source": [
        "步驟 2：定義 XOR 閘的資料集"
      ],
      "metadata": {
        "id": "6NFwnMvGq_4v"
      }
    },
    {
      "source": [
        "# 輸入\n",
        "X = np.array([[0, 0], [0, 1], [1, 0], [1, 1]])\n",
        "# 輸出\n",
        "y = np.array([0, 1, 1, 0]) # XOR 目標\n",
        "#y = np.array([0, 0, 0, 1]) # AND 目標\n",
        "#y = np.array([0, 1, 1, 1]) # OR 目標"
      ],
      "cell_type": "code",
      "metadata": {
        "id": "gqJEQwIdqpAA"
      },
      "execution_count": 9,
      "outputs": []
    },
    {
      "cell_type": "markdown",
      "source": [
        "步驟 3：定義類神經元網路的架構"
      ],
      "metadata": {
        "id": "uWdBnl6wq9C7"
      }
    },
    {
      "source": [
        "# 定義具有兩個輸入神經元、兩個隱藏神經元和一個輸出神經元的類神經元網路\n",
        "# 輸入層：2 個神經元\n",
        "# 隱藏層：2 個神經元，使用 sigmoid 激活函數\n",
        "# 輸出層：1 個神經元，使用 sigmoid 激活函數\n",
        "def sigmoid(x):\n",
        "  return 1 / (1 + np.exp(-x))\n",
        "\n",
        "def sigmoid_derivative(x):\n",
        "  return x * (1 - x)"
      ],
      "cell_type": "code",
      "metadata": {
        "id": "2f-g6moOqpqZ"
      },
      "execution_count": 10,
      "outputs": []
    },
    {
      "cell_type": "markdown",
      "source": [
        "步驟 4：初始化類神經元網路的權重和偏差"
      ],
      "metadata": {
        "id": "JumCXLWZq30Q"
      }
    },
    {
      "source": [
        "# 初始化權重和偏差為隨機值\n",
        "# 隱藏層權重\n",
        "hidden_weights = np.random.uniform(size=(2, 2))\n",
        "# 隱藏層偏差\n",
        "hidden_bias = np.random.uniform(size=(1, 2))\n",
        "# 輸出層權重\n",
        "output_weights = np.random.uniform(size=(2, 1))\n",
        "# 輸出層偏差\n",
        "output_bias = np.random.uniform(size=(1, 1))"
      ],
      "cell_type": "code",
      "metadata": {
        "id": "f9RpiJFjqqUa"
      },
      "execution_count": 11,
      "outputs": []
    },
    {
      "cell_type": "markdown",
      "source": [
        "步驟 5：訓練類神經元網路"
      ],
      "metadata": {
        "id": "WNnT2NISq0n2"
      }
    },
    {
      "source": [
        "# 設定學習率和迭代次數\n",
        "learning_rate = 0.1\n",
        "epochs = 10000\n",
        "\n",
        "# 訓練迴圈\n",
        "for epoch in range(epochs):\n",
        "  # 正向傳播\n",
        "  hidden_layer_activation = np.dot(X, hidden_weights) + hidden_bias\n",
        "  hidden_layer_output = sigmoid(hidden_layer_activation)\n",
        "  output_layer_activation = np.dot(hidden_layer_output, output_weights) + output_bias\n",
        "  predicted_output = sigmoid(output_layer_activation)\n",
        "\n",
        "  # 反向傳播\n",
        "  error = y.reshape(-1, 1) - predicted_output\n",
        "  d_predicted_output = error * sigmoid_derivative(predicted_output)\n",
        "  error_hidden_layer = d_predicted_output.dot(output_weights.T)\n",
        "  d_hidden_layer = error_hidden_layer * sigmoid_derivative(hidden_layer_output)\n",
        "\n",
        "  # 更新權重和偏差\n",
        "  output_weights += hidden_layer_output.T.dot(d_predicted_output) * learning_rate\n",
        "  output_bias += np.sum(d_predicted_output, axis=0, keepdims=True) * learning_rate\n",
        "  hidden_weights += X.T.dot(d_hidden_layer) * learning_rate\n",
        "  hidden_bias += np.sum(d_hidden_layer, axis=0, keepdims=True) * learning_rate\n",
        "\n",
        "  # 計算損失函數（均方誤差）\n",
        "  loss = np.mean(np.square(error))\n",
        "\n",
        "  # 每 1000 個迭代印出損失\n",
        "  if epoch % 1000 == 0:\n",
        "    print(f\"Epoch: {epoch}, Loss: {loss}\")"
      ],
      "cell_type": "code",
      "metadata": {
        "colab": {
          "base_uri": "https://localhost:8080/"
        },
        "id": "9nNi-uQjqq6J",
        "outputId": "9eea1772-5535-4ea2-cc5a-9dea5115dfb0"
      },
      "execution_count": 15,
      "outputs": [
        {
          "output_type": "stream",
          "name": "stdout",
          "text": [
            "Epoch: 0, Loss: 0.0005720896404361145\n",
            "Epoch: 1000, Loss: 0.000548263241504109\n",
            "Epoch: 2000, Loss: 0.0005262952376861805\n",
            "Epoch: 3000, Loss: 0.0005059787653683216\n",
            "Epoch: 4000, Loss: 0.0004871363621200064\n",
            "Epoch: 5000, Loss: 0.00046961494575593297\n",
            "Epoch: 6000, Loss: 0.0004532817850189266\n",
            "Epoch: 7000, Loss: 0.0004380212412461737\n",
            "Epoch: 8000, Loss: 0.00042373211464864763\n",
            "Epoch: 9000, Loss: 0.00041032546855687506\n"
          ]
        }
      ]
    },
    {
      "cell_type": "markdown",
      "source": [
        "**損失函數**\n",
        "\n",
        "* 這個程式碼使用均方誤差 (MSE) 作為損失函數。\n",
        "* MSE 計算預測輸出和實際輸出之間的平均平方差。\n",
        "* 訓練類神經元網路的目標是最小化損失函數。"
      ],
      "metadata": {
        "id": "r2mg1DQjqv3A"
      }
    },
    {
      "cell_type": "markdown",
      "source": [
        "學習結果"
      ],
      "metadata": {
        "id": "UNAN1setxRxN"
      }
    },
    {
      "cell_type": "code",
      "source": [
        "print(f\"hidden weights: {hidden_weights}, bias: {hidden_bias}\")\n",
        "print(f\"output weights: {output_weights}, bias: {output_bias}'\")"
      ],
      "metadata": {
        "colab": {
          "base_uri": "https://localhost:8080/"
        },
        "id": "A2uzK98kv1ZQ",
        "outputId": "e0aa6d73-56f6-4ca9-a744-560b4be2b6f2"
      },
      "execution_count": 6,
      "outputs": [
        {
          "output_type": "stream",
          "name": "stdout",
          "text": [
            "hidden weights: [[3.6653158  5.72633095]\n",
            " [3.6798572  5.79868177]], bias: [[-5.62242328 -2.39363783]]\n",
            "output weights: [[-8.03488326]\n",
            " [ 7.40847508]], bias: [[-3.33382908]]'\n"
          ]
        }
      ]
    },
    {
      "cell_type": "markdown",
      "source": [
        "XOR 閘學習模型：\n",
        "\\begin{eqnarray}\n",
        "w_h &=&\n",
        "\\begin{cases}\n",
        "3.66 & 5.73 \\\\\n",
        "3.68 & 5.80\n",
        "\\end{cases}\n",
        "\\\\\n",
        "b_h &=& \\begin{cases}\n",
        "-5.52 & -2.39\n",
        "\\end{cases}\\\\\n",
        "w_o &=&\n",
        "\\begin{cases}\n",
        "-8.0. & 7.41  \n",
        "\\end{cases}\n",
        "\\\\\n",
        "b_o &=& \\begin{cases}\n",
        "-3.33\n",
        "\\end{cases}\n",
        "\\end{eqnarray}"
      ],
      "metadata": {
        "id": "rjmUOY9G-y6D"
      }
    },
    {
      "cell_type": "markdown",
      "source": [
        "步驟 6：評估訓練好的類神經元網路"
      ],
      "metadata": {
        "id": "3u8_iyeCqzGg"
      }
    },
    {
      "source": [
        "# 預測 XOR 閘的輸出\n",
        "hidden_layer_activation = np.dot(X, hidden_weights) + hidden_bias\n",
        "hidden_layer_output = sigmoid(hidden_layer_activation)\n",
        "output_layer_activation = np.dot(hidden_layer_output, output_weights) + output_bias\n",
        "predicted_output = sigmoid(output_layer_activation)\n",
        "\n",
        "print(\"預測輸出：\")\n",
        "print(predicted_output)"
      ],
      "cell_type": "code",
      "metadata": {
        "colab": {
          "base_uri": "https://localhost:8080/"
        },
        "id": "uvSDpPQZqsnJ",
        "outputId": "5695c2ee-e495-412b-f57a-c9b16cdfe2d9"
      },
      "execution_count": 7,
      "outputs": [
        {
          "output_type": "stream",
          "name": "stdout",
          "text": [
            "預測輸出：\n",
            "[[0.06048372]\n",
            " [0.94423602]\n",
            " [0.94399821]\n",
            " [0.06044827]]\n"
          ]
        }
      ]
    },
    {
      "cell_type": "markdown",
      "source": [
        "XOR 閘學習預測：\n",
        "\\begin{eqnarray}\n",
        "Y_O &=&\n",
        "\\begin{cases}\n",
        "0.06 \\\\\n",
        "0.94 \\\\\n",
        "0.94 \\\\\n",
        "0.06\n",
        "\\end{cases}\n",
        "\\end{eqnarray}"
      ],
      "metadata": {
        "id": "O6D1742HAihB"
      }
    }
  ]
}