{
  "nbformat": 4,
  "nbformat_minor": 0,
  "metadata": {
    "colab": {
      "provenance": [],
      "authorship_tag": "ABX9TyM40TVaoMIClJSx0Tc142w6",
      "include_colab_link": true
    },
    "kernelspec": {
      "name": "python3",
      "display_name": "Python 3"
    },
    "language_info": {
      "name": "python"
    }
  },
  "cells": [
    {
      "cell_type": "markdown",
      "metadata": {
        "id": "view-in-github",
        "colab_type": "text"
      },
      "source": [
        "<a href=\"https://colab.research.google.com/github/twyeh/AI-in-education/blob/main/SimpleRNN_and_LSTM%E6%AF%94%E8%BC%83.ipynb\" target=\"_parent\"><img src=\"https://colab.research.google.com/assets/colab-badge.svg\" alt=\"Open In Colab\"/></a>"
      ]
    },
    {
      "cell_type": "code",
      "execution_count": null,
      "metadata": {
        "id": "dUNEuBUq8obY"
      },
      "outputs": [],
      "source": [
        "import numpy as np\n",
        "from tensorflow.keras.models import Sequential\n",
        "from tensorflow.keras.layers import SimpleRNN, Dense\n",
        "# 假設資料\n",
        "data = np.random.rand(100, 10, 1)  # 100個樣本，每個樣本10個時間步，1個特徵\n",
        "labels = np.random.rand(100, 1)  # 100個標籤\n",
        "# 建立模型\n",
        "model = Sequential([\n",
        "    SimpleRNN(50, input_shape=(10, 1)),\n",
        "    Dense(1)\n",
        "])\n",
        "\n",
        "# 編譯模型\n",
        "model.compile(optimizer='adam', loss='mean_squared_error')\n",
        "\n",
        "# 訓練模型\n",
        "model.fit(data, labels, epochs=10, batch_size=32)"
      ]
    },
    {
      "cell_type": "code",
      "source": [
        "from keras.models import Sequential\n",
        "from keras.layers import LSTM, Dense\n",
        "import numpy as np\n",
        "\n",
        "# 假設資料\n",
        "data = np.random.rand(100, 10, 1)  # 100個樣本，每個樣本10個時間步，1個特徵\n",
        "labels = np.random.rand(100, 1)  # 100個標籤\n",
        "\n",
        "# 建立模型\n",
        "model = Sequential([\n",
        "    LSTM(50, input_shape=(10, 1)),\n",
        "    Dense(1)\n",
        "])\n",
        "\n",
        "# 編譯模型\n",
        "model.compile(loss='mean_squared_error', optimizer='adam')\n",
        "\n",
        "# 訓練模型\n",
        "model.fit(data, labels, epochs=10, batch_size=32)\n",
        "\n",
        "# 保存模型\n",
        "model.save('lstm_model.h5')\n",
        "model.save('lstm_model.keras')"
      ],
      "metadata": {
        "id": "abhizkHk9R0n"
      },
      "execution_count": null,
      "outputs": []
    }
  ]
}