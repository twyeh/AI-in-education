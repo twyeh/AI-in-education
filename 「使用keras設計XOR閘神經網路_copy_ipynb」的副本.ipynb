{
  "nbformat": 4,
  "nbformat_minor": 0,
  "metadata": {
    "colab": {
      "provenance": [],
      "authorship_tag": "ABX9TyPx8Az+AfvzMNcBBNJNvBWy",
      "include_colab_link": true
    },
    "kernelspec": {
      "name": "python3",
      "display_name": "Python 3"
    },
    "language_info": {
      "name": "python"
    }
  },
  "cells": [
    {
      "cell_type": "markdown",
      "metadata": {
        "id": "view-in-github",
        "colab_type": "text"
      },
      "source": [
        "<a href=\"https://colab.research.google.com/github/twyeh/AI-in-education/blob/main/%E3%80%8C%E4%BD%BF%E7%94%A8keras%E8%A8%AD%E8%A8%88XOR%E9%96%98%E7%A5%9E%E7%B6%93%E7%B6%B2%E8%B7%AF_copy_ipynb%E3%80%8D%E7%9A%84%E5%89%AF%E6%9C%AC.ipynb\" target=\"_parent\"><img src=\"https://colab.research.google.com/assets/colab-badge.svg\" alt=\"Open In Colab\"/></a>"
      ]
    },
    {
      "cell_type": "markdown",
      "source": [
        "# 目標\n",
        "使用 keras 設計一個模擬XOR 邏輯閘的類神經網路。使用一層影藏層。"
      ],
      "metadata": {
        "id": "-RPTaiJiOZs2"
      }
    },
    {
      "cell_type": "markdown",
      "source": [
        "1. 匯入必要的函式庫：numpy、keras 和 layers。"
      ],
      "metadata": {
        "id": "RIoEsFs-NpD_"
      }
    },
    {
      "cell_type": "code",
      "source": [
        "import numpy as np\n",
        "from tensorflow import keras\n",
        "from tensorflow.keras import layers"
      ],
      "metadata": {
        "id": "jiBEIyDUNq8X"
      },
      "execution_count": null,
      "outputs": []
    },
    {
      "cell_type": "markdown",
      "source": [
        "2. 定義 XOR 邏輯閘的輸入和輸出：X 代表輸入，y 代表輸出。"
      ],
      "metadata": {
        "id": "2HDf4b7GNtwg"
      }
    },
    {
      "cell_type": "code",
      "source": [
        "# 定義 XOR 邏輯閘的輸入和輸出\n",
        "X = np.array([[0, 0], [0, 1], [1, 0], [1, 1]])\n",
        "y = np.array([0, 1, 1, 0])"
      ],
      "metadata": {
        "id": "MzxAVL3VNyai"
      },
      "execution_count": null,
      "outputs": []
    },
    {
      "cell_type": "markdown",
      "source": [
        "3. 建立模型：使用 keras.Sequential() 建立一個序列模型。\n",
        "* 添加一個隱藏層，使用 layers.Dense()，有 2 個神經元，使用 sigmoid 激活函數。\n",
        "* 添加一個輸出層，使用 layers.Dense()，有 1 個神經元，使用 Sigmoid 激活函數。\n"
      ],
      "metadata": {
        "id": "IjjJnmdxN1t0"
      }
    },
    {
      "cell_type": "code",
      "source": [
        "# 建立模型\n",
        "model = keras.Sequential()\n",
        "model.add(layers.Dense(2, activation='sigmoid'))  # 隱藏層，有 2 個神經元，使用 ReLU 激活函數\n",
        "#model.add(layers.Dense(4, activation='sigmoid'))  # 隱藏層，有 2 個神經元，使用 ReLU 激活函數\n",
        "model.add(layers.Dense(1, activation='sigmoid'))  # 輸出層，有 1 個神經元，使用 Sigmoid 激活函數"
      ],
      "metadata": {
        "id": "r4lh_A1uN5CW"
      },
      "execution_count": null,
      "outputs": []
    },
    {
      "cell_type": "markdown",
      "source": [
        "4. 編譯模型：使用 model.compile()，指定損失函數、優化器和指標。"
      ],
      "metadata": {
        "id": "8DH94sGQN61P"
      }
    },
    {
      "cell_type": "code",
      "source": [
        "# 編譯模型\n",
        "model.compile(loss='binary_crossentropy', optimizer='adam', metrics=['accuracy'])"
      ],
      "metadata": {
        "id": "5v7i2HVQN9Gv"
      },
      "execution_count": null,
      "outputs": []
    },
    {
      "cell_type": "markdown",
      "source": [
        "5. 訓練模型：使用 model.fit()，將輸入和輸出數據傳入模型進行訓練。"
      ],
      "metadata": {
        "id": "P1bslEVeN_cw"
      }
    },
    {
      "cell_type": "code",
      "source": [
        "# 訓練模型\n",
        "model.fit(X, y, epochs=1000, verbose=0)"
      ],
      "metadata": {
        "colab": {
          "base_uri": "https://localhost:8080/"
        },
        "id": "YbmdTXVUOCAy",
        "outputId": "29e7e4fc-6d96-43b0-eabc-b495e91d7c84"
      },
      "execution_count": null,
      "outputs": [
        {
          "output_type": "execute_result",
          "data": {
            "text/plain": [
              "<keras.src.callbacks.history.History at 0x7a49396cfd90>"
            ]
          },
          "metadata": {},
          "execution_count": 5
        }
      ]
    },
    {
      "cell_type": "code",
      "source": [
        "model.save('XOR.h5')"
      ],
      "metadata": {
        "id": "ceQigwvqS3B-",
        "colab": {
          "base_uri": "https://localhost:8080/"
        },
        "outputId": "6bb00a20-4c9f-4995-9663-59fb3669a6a6"
      },
      "execution_count": null,
      "outputs": [
        {
          "output_type": "stream",
          "name": "stderr",
          "text": [
            "WARNING:absl:You are saving your model as an HDF5 file via `model.save()` or `keras.saving.save_model(model)`. This file format is considered legacy. We recommend using instead the native Keras format, e.g. `model.save('my_model.keras')` or `keras.saving.save_model(model, 'my_model.keras')`. \n"
          ]
        }
      ]
    },
    {
      "cell_type": "markdown",
      "source": [
        "6. 評估模型：使用 model.evaluate()，評估模型的準確度。"
      ],
      "metadata": {
        "id": "pXMLrOaJOGz8"
      }
    },
    {
      "cell_type": "code",
      "source": [
        "# 評估模型\n",
        "_, accuracy = model.evaluate(X, y, verbose=0)\n",
        "print(f'Accuracy: {accuracy * 100:.2f}%')"
      ],
      "metadata": {
        "colab": {
          "base_uri": "https://localhost:8080/"
        },
        "id": "7qqx3aXiOJhO",
        "outputId": "b46f2a1d-415c-4e6b-c7f6-59f12e8cd881"
      },
      "execution_count": null,
      "outputs": [
        {
          "output_type": "stream",
          "name": "stdout",
          "text": [
            "Accuracy: 75.00%\n"
          ]
        }
      ]
    },
    {
      "cell_type": "markdown",
      "source": [
        "7. 預測：使用 model.predict()，對新的輸入數據進行預測。"
      ],
      "metadata": {
        "id": "_VD1oSBlOLWv"
      }
    },
    {
      "cell_type": "code",
      "source": [
        "# 預測\n",
        "predictions = model.predict(X)\n",
        "print('Predictions:')\n",
        "print(predictions)"
      ],
      "metadata": {
        "colab": {
          "base_uri": "https://localhost:8080/"
        },
        "id": "_xTxyC6gOPBh",
        "outputId": "d9dc68aa-ae03-47de-9fb7-084740f563dc"
      },
      "execution_count": null,
      "outputs": [
        {
          "output_type": "stream",
          "name": "stdout",
          "text": [
            "\u001b[1m1/1\u001b[0m \u001b[32m━━━━━━━━━━━━━━━━━━━━\u001b[0m\u001b[37m\u001b[0m \u001b[1m0s\u001b[0m 61ms/step\n",
            "Predictions:\n",
            "[[0.4762414 ]\n",
            " [0.46718526]\n",
            " [0.5835412 ]\n",
            " [0.44475695]]\n"
          ]
        }
      ]
    }
  ]
}