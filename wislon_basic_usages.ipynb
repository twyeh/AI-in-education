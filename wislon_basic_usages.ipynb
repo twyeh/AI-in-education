{
  "cells": [
    {
      "cell_type": "markdown",
      "metadata": {
        "id": "view-in-github",
        "colab_type": "text"
      },
      "source": [
        "<a href=\"https://colab.research.google.com/github/twyeh/AI-in-education/blob/main/wislon_basic_usages.ipynb\" target=\"_parent\"><img src=\"https://colab.research.google.com/assets/colab-badge.svg\" alt=\"Open In Colab\"/></a>"
      ]
    },
    {
      "cell_type": "markdown",
      "source": [
        "根據perplexity整理的資料編寫應用範例，以理解使用wilson module的方法及驗證其正確性。"
      ],
      "metadata": {
        "id": "4cahWxGua9IX"
      },
      "id": "4cahWxGua9IX"
    },
    {
      "cell_type": "markdown",
      "id": "9c307474",
      "metadata": {
        "id": "9c307474"
      },
      "source": [
        "<img src=\"https://r2cdn.perplexity.ai/pplx-full-logo-primary-dark%402x.png\" class=\"logo\" width=\"120\"/>\n",
        "\n",
        "# Wilson Python模块的使用方法\n",
        "\n",
        "Wilson是一个Python库，专门用于标准模型之外（Beyond Standard Model）物理中Wilson系数的匹配、运行和转换。根据搜索结果，以下是使用该模块的主要方法：\n",
        "\n",
        "## 安装方法\n",
        "\n",
        "安装Wilson模块非常简单，只需要在终端中执行以下命令："
      ]
    },
    {
      "cell_type": "code",
      "execution_count": 2,
      "id": "51654eac",
      "metadata": {
        "colab": {
          "base_uri": "https://localhost:8080/"
        },
        "id": "51654eac",
        "outputId": "155e6f2b-023b-4533-955d-5df71e38f080"
      },
      "outputs": [
        {
          "output_type": "stream",
          "name": "stdout",
          "text": [
            "Collecting wilson\n",
            "  Downloading wilson-2.5.1-py3-none-any.whl.metadata (3.5 kB)\n",
            "Requirement already satisfied: numpy>=1.16.5 in /usr/local/lib/python3.11/dist-packages (from wilson) (2.0.2)\n",
            "Requirement already satisfied: scipy>=1.0 in /usr/local/lib/python3.11/dist-packages (from wilson) (1.14.1)\n",
            "Requirement already satisfied: pandas in /usr/local/lib/python3.11/dist-packages (from wilson) (2.2.2)\n",
            "Collecting pylha>=0.2 (from wilson)\n",
            "  Downloading pylha-0.4.tar.gz (54 kB)\n",
            "\u001b[2K     \u001b[90m━━━━━━━━━━━━━━━━━━━━━━━━━━━━━━━━━━━━━━━━\u001b[0m \u001b[32m54.8/54.8 kB\u001b[0m \u001b[31m2.1 MB/s\u001b[0m eta \u001b[36m0:00:00\u001b[0m\n",
            "\u001b[?25h  Preparing metadata (setup.py) ... \u001b[?25l\u001b[?25hdone\n",
            "Requirement already satisfied: pyyaml in /usr/local/lib/python3.11/dist-packages (from wilson) (6.0.2)\n",
            "Collecting ckmutil>=1.2.0 (from wilson)\n",
            "  Downloading ckmutil-1.2.0-py3-none-any.whl.metadata (858 bytes)\n",
            "Collecting rundec>=0.5 (from wilson)\n",
            "  Downloading rundec-0.6-cp311-cp311-manylinux_2_17_x86_64.manylinux2014_x86_64.whl.metadata (575 bytes)\n",
            "Collecting voluptuous (from wilson)\n",
            "  Downloading voluptuous-0.15.2-py3-none-any.whl.metadata (20 kB)\n",
            "Requirement already satisfied: python-dateutil>=2.8.2 in /usr/local/lib/python3.11/dist-packages (from pandas->wilson) (2.8.2)\n",
            "Requirement already satisfied: pytz>=2020.1 in /usr/local/lib/python3.11/dist-packages (from pandas->wilson) (2025.2)\n",
            "Requirement already satisfied: tzdata>=2022.7 in /usr/local/lib/python3.11/dist-packages (from pandas->wilson) (2025.2)\n",
            "Requirement already satisfied: six>=1.5 in /usr/local/lib/python3.11/dist-packages (from python-dateutil>=2.8.2->pandas->wilson) (1.17.0)\n",
            "Downloading wilson-2.5.1-py3-none-any.whl (591 kB)\n",
            "\u001b[2K   \u001b[90m━━━━━━━━━━━━━━━━━━━━━━━━━━━━━━━━━━━━━━━━\u001b[0m \u001b[32m591.9/591.9 kB\u001b[0m \u001b[31m12.8 MB/s\u001b[0m eta \u001b[36m0:00:00\u001b[0m\n",
            "\u001b[?25hDownloading ckmutil-1.2.0-py3-none-any.whl (11 kB)\n",
            "Downloading rundec-0.6-cp311-cp311-manylinux_2_17_x86_64.manylinux2014_x86_64.whl (1.3 MB)\n",
            "\u001b[2K   \u001b[90m━━━━━━━━━━━━━━━━━━━━━━━━━━━━━━━━━━━━━━━━\u001b[0m \u001b[32m1.3/1.3 MB\u001b[0m \u001b[31m31.1 MB/s\u001b[0m eta \u001b[36m0:00:00\u001b[0m\n",
            "\u001b[?25hDownloading voluptuous-0.15.2-py3-none-any.whl (31 kB)\n",
            "Building wheels for collected packages: pylha\n",
            "  Building wheel for pylha (setup.py) ... \u001b[?25l\u001b[?25hdone\n",
            "  Created wheel for pylha: filename=pylha-0.4-py3-none-any.whl size=58269 sha256=9b5a0bf68ba1ffa1ae2f89a386d43b2f392af55c5961af1d6c49552c932c2e8f\n",
            "  Stored in directory: /root/.cache/pip/wheels/e5/fa/51/6cb033ac4cb2857410fa6e15c87a4501df116007d79c91b473\n",
            "Successfully built pylha\n",
            "Installing collected packages: rundec, voluptuous, pylha, ckmutil, wilson\n",
            "Successfully installed ckmutil-1.2.0 pylha-0.4 rundec-0.6 voluptuous-0.15.2 wilson-2.5.1\n"
          ]
        }
      ],
      "source": [
        "!pip install wilson"
      ]
    },
    {
      "cell_type": "markdown",
      "id": "53d69906",
      "metadata": {
        "id": "53d69906"
      },
      "source": [
        "如需升级到最新版本："
      ]
    },
    {
      "cell_type": "code",
      "execution_count": 3,
      "id": "ac7e93f8",
      "metadata": {
        "colab": {
          "base_uri": "https://localhost:8080/"
        },
        "id": "ac7e93f8",
        "outputId": "0fc4cd2e-3963-438f-b8ea-0e7f6d042bd0"
      },
      "outputs": [
        {
          "output_type": "stream",
          "name": "stdout",
          "text": [
            "Requirement already satisfied: wilson in /usr/local/lib/python3.11/dist-packages (2.5.1)\n",
            "Requirement already satisfied: numpy>=1.16.5 in /usr/local/lib/python3.11/dist-packages (from wilson) (2.0.2)\n",
            "Requirement already satisfied: scipy>=1.0 in /usr/local/lib/python3.11/dist-packages (from wilson) (1.14.1)\n",
            "Requirement already satisfied: pandas in /usr/local/lib/python3.11/dist-packages (from wilson) (2.2.2)\n",
            "Requirement already satisfied: pylha>=0.2 in /usr/local/lib/python3.11/dist-packages (from wilson) (0.4)\n",
            "Requirement already satisfied: pyyaml in /usr/local/lib/python3.11/dist-packages (from wilson) (6.0.2)\n",
            "Requirement already satisfied: ckmutil>=1.2.0 in /usr/local/lib/python3.11/dist-packages (from wilson) (1.2.0)\n",
            "Requirement already satisfied: rundec>=0.5 in /usr/local/lib/python3.11/dist-packages (from wilson) (0.6)\n",
            "Requirement already satisfied: voluptuous in /usr/local/lib/python3.11/dist-packages (from wilson) (0.15.2)\n",
            "Requirement already satisfied: python-dateutil>=2.8.2 in /usr/local/lib/python3.11/dist-packages (from pandas->wilson) (2.8.2)\n",
            "Requirement already satisfied: pytz>=2020.1 in /usr/local/lib/python3.11/dist-packages (from pandas->wilson) (2025.2)\n",
            "Requirement already satisfied: tzdata>=2022.7 in /usr/local/lib/python3.11/dist-packages (from pandas->wilson) (2025.2)\n",
            "Requirement already satisfied: six>=1.5 in /usr/local/lib/python3.11/dist-packages (from python-dateutil>=2.8.2->pandas->wilson) (1.17.0)\n"
          ]
        }
      ],
      "source": [
        "!pip install --upgrade wilson --user"
      ]
    },
    {
      "cell_type": "markdown",
      "id": "e20226c2",
      "metadata": {
        "id": "e20226c2"
      },
      "source": [
        "## 基本初始化\n",
        "\n",
        "**创建Wilson对象的两种方法：**\n",
        "\n",
        "1. 直接指定Wilson系数值："
      ]
    },
    {
      "cell_type": "code",
      "execution_count": 4,
      "id": "d0ae38ea",
      "metadata": {
        "id": "d0ae38ea"
      },
      "outputs": [],
      "source": [
        "from wilson import Wilson\n",
        "mywilson = Wilson({'uG_33': 1e-6}, scale=1e3, eft='SMEFT', basis='Warsaw')"
      ]
    },
    {
      "cell_type": "markdown",
      "id": "9da97b7e",
      "metadata": {
        "id": "9da97b7e"
      },
      "source": [
        "这行代码创建了一个新的Wilson实例，其中Warsaw基中的色磁算符（chromomagnetic operator）`uG_33`的Wilson系数被设置为1/TeV²，在1 TeV的能量尺度上[^1_1][^1_5]。\n",
        "\n",
        "2. 从WCxf文件加载："
      ]
    },
    {
      "cell_type": "code",
      "execution_count": null,
      "id": "f130bda4",
      "metadata": {
        "id": "f130bda4"
      },
      "outputs": [],
      "source": [
        "from wilson import Wilson\n",
        "with open('my_wcxf.json') as f:\n",
        "    mywilson = Wilson.load_wc(f)"
      ]
    },
    {
      "cell_type": "markdown",
      "id": "c47d6337",
      "metadata": {
        "id": "c47d6337"
      },
      "source": [
        "## 匹配和运行方法\n",
        "\n",
        "Wilson模块的核心功能是`match_run`方法，它可以执行以下操作[^1_1][^1_5]："
      ]
    },
    {
      "cell_type": "code",
      "execution_count": null,
      "id": "d39a7ebc",
      "metadata": {
        "id": "d39a7ebc"
      },
      "outputs": [],
      "source": [
        "# 运行到100 TeV并转换到'Warsaw up'基\n",
        "wc = mywilson.match_run(scale=1e5, eft='SMEFT', basis='Warsaw up')\n",
        "\n",
        "# 运行并匹配到100 GeV的WET，使用'JMS'基\n",
        "wc = mywilson.match_run(scale=100, eft='WET', basis='JMS')\n",
        "\n",
        "# 运行并匹配到2 GeV的WET-3，使用'flavio'基\n",
        "wc = mywilson.match_run(scale=2, eft='WET-3', basis='flavio')"
      ]
    },
    {
      "cell_type": "markdown",
      "id": "1be71ab5",
      "metadata": {
        "id": "1be71ab5"
      },
      "source": [
        "可接受的EFT和基的名称可以在WCxf网站上找到[^1_5]。\n",
        "\n",
        "## 与其他代码接口\n",
        "\n",
        "Wilson基于Wilson系数交换格式(WCxf)，可以轻松地导入和导出到支持此标准的程序[^1_1]："
      ]
    },
    {
      "cell_type": "code",
      "execution_count": null,
      "id": "7ce5c6b2",
      "metadata": {
        "id": "7ce5c6b2"
      },
      "outputs": [],
      "source": [
        "wc = mywilson.match_run(scale=100, eft='WET', basis='JMS')\n",
        "with open('my_wcxf_output.json', 'w') as f:\n",
        "    wc.dump(f)"
      ]
    },
    {
      "cell_type": "markdown",
      "id": "a3187d02",
      "metadata": {
        "id": "a3187d02"
      },
      "source": [
        "## 与flavio包集成\n",
        "\n",
        "Wilson可以与flavio包集成，用于计算标准模型及其扩展中的各种物理观测量[^1_2]："
      ]
    },
    {
      "cell_type": "code",
      "execution_count": null,
      "id": "d3949d10",
      "metadata": {
        "id": "d3949d10"
      },
      "outputs": [],
      "source": [
        "import flavio, wcxf\n",
        "\n",
        "with open('my_wcxf_input_file.yml', 'r') as f:\n",
        "    wc = wcxf.WC.load(f)\n",
        "\n",
        "fwc = flavio.WilsonCoefficients()\n",
        "fwc.set_initial_wcxf(wc)"
      ]
    },
    {
      "cell_type": "markdown",
      "id": "5c2a85ab",
      "metadata": {
        "id": "5c2a85ab"
      },
      "source": [
        "## 其他功能\n",
        "\n",
        "Wilson程序可以执行的操作包括[^1_3][^1_5]：\n",
        "\n",
        "- 在标准模型有效场论(SMEFT)中进行重整化群演化\n",
        "- 在电弱尺度将SMEFT匹配到弱有效理论(WET)\n",
        "- 在电弱尺度以下进行QCD/QED重整化群演化\n",
        "- 自动在不同Wilson系数基之间转换\n",
        "\n",
        "用户还可以通过访问[wilson-notebooks](https://github.com/wilson-eft/wilson-notebooks)仓库，获取包含使用示例的Jupyter笔记本[^1_4]。\n",
        "\n",
        "<div>⁂</div>\n",
        "\n",
        "[^1_1]: http://www.arxiv.org/pdf/1804.05033v1.pdf\n",
        "\n",
        "[^1_2]: http://arxiv.org/pdf/1712.05298.pdf\n",
        "\n",
        "[^1_3]: https://wilson-eft.github.io\n",
        "\n",
        "[^1_4]: https://github.com/wilson-eft\n",
        "\n",
        "[^1_5]: https://arxiv.org/pdf/1804.05033.pdf\n",
        "\n",
        "[^1_6]: https://arxiv.org/abs/1804.05033\n",
        "\n",
        "[^1_7]: https://inis.iaea.org/records/kg6jh-1ng67/files/53004235.pdf?download=1\n",
        "\n",
        "[^1_8]: https://github.com/wilson-eft/wilson\n",
        "\n",
        "[^1_9]: https://cds.cern.ch/record/2745523/files/2011.06558.pdf\n",
        "\n",
        "[^1_10]: https://roderic.uv.es/bitstreams/081cfc03-5bd3-4025-990a-b9be0cdbf744/download\n",
        "\n",
        "[^1_11]: https://arxiv.org/abs/1810.08132\n",
        "\n",
        "[^1_12]: https://arxiv.org/pdf/1810.07698.pdf\n",
        "\n",
        "[^1_13]: https://arxiv.org/abs/2303.18004\n",
        "\n",
        "[^1_14]: https://cds.cern.ch/record/2842082/files/2212.02905.pdf\n",
        "\n",
        "[^1_15]: https://arxiv.org/abs/2409.15007\n",
        "\n",
        "[^1_16]: https://arxiv.org/pdf/2212.08485.pdf\n",
        "\n",
        "[^1_17]: https://arxiv.org/pdf/2409.03030.pdf\n",
        "\n",
        "[^1_18]: https://arxiv.org/pdf/1810.08132.pdf\n",
        "\n",
        "[^1_19]: https://arxiv.org/pdf/2408.03252.pdf\n",
        "\n",
        "[^1_20]: https://arxiv.org/html/2411.08044v1\n",
        "\n",
        "[^1_21]: https://wilson-eft.github.io/wilson/\n",
        "\n",
        "[^1_22]: https://github.com/wilson-eft/wilson-notebooks\n",
        "\n",
        "[^1_23]: https://compneuro.neuromatch.io/tutorials/W2D4_DynamicNetworks/student/W2D4_Tutorial2.html\n",
        "\n",
        "[^1_24]: https://stackoverflow.com/questions/10029588/python-implementation-of-the-wilson-score-interval\n",
        "\n",
        "[^1_25]: https://pypi.org/project/wilson/\n",
        "\n",
        "[^1_26]: https://blog.rtwilson.com/my-top-5-new-python-modules-of-2015/\n",
        "\n",
        "[^1_27]: https://github.com/open-source-modelling/Smith_Wilson_python\n",
        "\n",
        "[^1_28]: https://mikulskibartosz.name/wilson-score-in-python-example\n",
        "\n",
        "[^1_29]: https://github.com/simicd/smith-wilson-py\n",
        "\n",
        "[^1_30]: https://blog.rtwilson.com/how-to-find-out-what-modules-a-python-script-requires/\n",
        "\n",
        "[^1_31]: https://stackoverflow.com/questions/57987134/whats-the-most-efficient-way-to-find-wilson-prime-number-using-python\n",
        "\n",
        "---\n",
        "\n",
        "# 如何使用match_run方法进行Wilson系数的匹配和运行\n",
        "\n",
        "我注意到搜索结果中没有直接包含关于Wilson Python模块的`match_run`方法的具体信息。尽管如此，我将基于可用信息提供一个关于Wilson系数匹配和运行的一般性回答。\n",
        "\n",
        "在高能物理中，Wilson系数是描述有效场论（EFT）中不同算符贡献的重要参数。`match_run`方法通常用于执行Wilson系数的匹配和重整化群演化。\n",
        "\n",
        "## 基本使用方法\n",
        "\n",
        "要使用Wilson Python模块中的`match_run`方法，您需要：\n",
        "\n",
        "1. 首先导入Wilson模块："
      ]
    },
    {
      "cell_type": "code",
      "execution_count": null,
      "id": "a9f76a95",
      "metadata": {
        "id": "a9f76a95"
      },
      "outputs": [],
      "source": [
        "from wilson import Wilson"
      ]
    },
    {
      "cell_type": "markdown",
      "id": "b562726d",
      "metadata": {
        "id": "b562726d"
      },
      "source": [
        "2. 创建一个Wilson对象，通常包含初始Wilson系数、能量尺度、有效场论类型和基的选择："
      ]
    },
    {
      "cell_type": "code",
      "execution_count": null,
      "id": "4ba275ac",
      "metadata": {
        "id": "4ba275ac"
      },
      "outputs": [],
      "source": [
        "mywilson = Wilson({'coefficient_name': value}, scale=initial_scale, eft='SMEFT', basis='Warsaw')"
      ]
    },
    {
      "cell_type": "markdown",
      "id": "ca1869d8",
      "metadata": {
        "id": "ca1869d8"
      },
      "source": [
        "3. 使用`match_run`方法进行系数匹配和演化："
      ]
    },
    {
      "cell_type": "code",
      "execution_count": null,
      "id": "bc81d735",
      "metadata": {
        "id": "bc81d735"
      },
      "outputs": [],
      "source": [
        "result = mywilson.match_run(scale=target_scale, eft='target_eft', basis='target_basis')"
      ]
    },
    {
      "cell_type": "markdown",
      "id": "70787ff6",
      "metadata": {
        "id": "70787ff6"
      },
      "source": [
        "## 参数说明\n",
        "\n",
        "`match_run`方法通常接受以下参数：\n",
        "\n",
        "- `scale`: 目标能量尺度，例如100 GeV或2 TeV\n",
        "- `eft`: 目标有效场论，如'SMEFT'或'WET'\n",
        "- `basis`: 目标基，如'Warsaw'、'JMS'或'flavio'\n",
        "\n",
        "\n",
        "## 实际应用示例"
      ]
    },
    {
      "cell_type": "code",
      "execution_count": null,
      "id": "94a0b6cd",
      "metadata": {
        "id": "94a0b6cd"
      },
      "outputs": [],
      "source": [
        "# 创建Wilson对象，在1 TeV尺度设置一个色磁算符\n",
        "mywilson = Wilson({'uG_33': 1e-6}, scale=1e3, eft='SMEFT', basis='Warsaw')\n",
        "\n",
        "# 将系数运行到100 GeV并匹配到WET\n",
        "result = mywilson.match_run(scale=100, eft='WET', basis='JMS')\n",
        "\n",
        "# 访问结果中的系数\n",
        "coefficients = result.values"
      ]
    },
    {
      "cell_type": "markdown",
      "id": "305e2a01",
      "metadata": {
        "id": "305e2a01"
      },
      "source": [
        "需要注意的是，根据搜索结果中的信息，我无法提供更具体的Wilson模块使用细节。对于完整的文档和更多使用实例，建议参考Wilson Python模块的官方文档或相关论文。\n",
        "\n",
        "<div>⁂</div>\n",
        "\n",
        "[^2_1]: https://tomassetti.me/python-reflection-how-to-list-modules-and-inspect-functions/\n",
        "\n",
        "[^2_2]: https://qiita.com/akidon0000/items/019c1a6bcb494f0252ea\n",
        "\n",
        "[^2_3]: https://www.freecodecamp.org/chinese/news/javascript-regex-match-example-how-to-use-the-js-replace-method-on-a-string/\n",
        "\n",
        "[^2_4]: https://stackoverflow.com/questions/56936762/use-method-of-library-imported-in-another-module\n",
        "\n",
        "[^2_5]: https://qiita.com/TomoK303/items/d7e8f9c8547214f52bc6\n",
        "\n",
        "[^2_6]: https://wilson-ren.netlify.app/python\n",
        "\n",
        "[^2_7]: https://easychair.org/smart-program/PPL2020/2020-03-03.html\n",
        "\n",
        "[^2_8]: https://docs.python.org/3/tutorial/modules.html\n",
        "\n",
        "[^2_9]: https://qiita.com/yaburen/items/153ad54a5c272bcce6dd\n",
        "\n",
        "[^2_10]: https://blog.csdn.net/highplayer/article/details/7445057\n",
        "\n",
        "[^2_11]: https://www-file.huawei.com/-/media/corp2020/pdf/publications/huawei-research/2024/huawei-research-issue6-cn.pdf\n",
        "\n",
        "[^2_12]: https://note.com/e_dao/n/nd75a74b66c9d\n",
        "\n",
        "[^2_13]: https://blog.csdn.net/weixin_52640415/article/details/141436404\n",
        "\n",
        "[^2_14]: https://note.com/surugawannoebi/n/n3346f2f8ce7f\n",
        "\n",
        "[^2_15]: https://blog.csdn.net/just_sort/article/details/132115735\n",
        "\n",
        "[^2_16]: https://qiita.com/abe_yu/items/b15ce4738906f96ee987\n",
        "\n",
        "[^2_17]: https://hackmd.io/@vax-r/linux2024-homework1\n",
        "\n",
        "[^2_18]: https://blog.csdn.net/qq_59539549/article/details/128007044\n",
        "\n",
        "[^2_19]: https://www.sohu.com/a/800168653_121124363\n",
        "\n",
        "[^2_20]: https://blog.csdn.net/weixin_41744192/article/details/123928547\n",
        "\n",
        "---\n",
        "\n",
        "# match_run方法如何处理数据的输入和输出\n",
        "\n",
        "根据搜索结果，虽然没有直接关于Wilson模块中`match_run`方法的详细说明，但我可以从现有信息中分析该方法的数据处理方式。\n",
        "\n",
        "## match_run方法的数据输入\n",
        "\n",
        "`match_run`方法在Wilson Python模块中主要接收以下输入参数：\n",
        "\n",
        "1. **scale**: 表示目标能量尺度，以GeV或TeV为单位的数值[^3_5]"
      ]
    },
    {
      "cell_type": "code",
      "execution_count": null,
      "id": "b65d058f",
      "metadata": {
        "id": "b65d058f"
      },
      "outputs": [],
      "source": [
        "mywilson.match_run(scale=1e5)  # 运行到100 TeV"
      ]
    },
    {
      "cell_type": "markdown",
      "id": "79905f2e",
      "metadata": {
        "id": "79905f2e"
      },
      "source": [
        "2. **eft**: 指定目标有效场论，例如'SMEFT'、'WET'或'nuSMEFT'[^3_5]"
      ]
    },
    {
      "cell_type": "code",
      "execution_count": null,
      "id": "2c9b9141",
      "metadata": {
        "id": "2c9b9141"
      },
      "outputs": [],
      "source": [
        "mywilson.match_run(scale=100, eft='WET')"
      ]
    },
    {
      "cell_type": "markdown",
      "id": "6b7000f2",
      "metadata": {
        "id": "6b7000f2"
      },
      "source": [
        "3. **basis**: 指定目标Wilson系数基，如'Warsaw'、'JMS'或'flavio'[^3_5]"
      ]
    },
    {
      "cell_type": "code",
      "execution_count": null,
      "id": "e463cae7",
      "metadata": {
        "id": "e463cae7"
      },
      "outputs": [],
      "source": [
        "mywilson.match_run(scale=1e5, eft='SMEFT', basis='Warsaw up')"
      ]
    },
    {
      "cell_type": "markdown",
      "id": "7b0dfff5",
      "metadata": {
        "id": "7b0dfff5"
      },
      "source": [
        "## match_run方法的数据输出\n",
        "\n",
        "`match_run`方法输出处理后的Wilson系数对象，这个对象包含：\n",
        "\n",
        "1. **运行后的Wilson系数值**: 在指定能量尺度下计算得到的系数[^3_5]\n",
        "2. **输出格式**: 返回一个Wilson系数对象，可以通过`.values`方法访问具体系数值\n",
        "3. **导出功能**: 可以将结果导出为WCxf格式的JSON文件"
      ]
    },
    {
      "cell_type": "code",
      "execution_count": null,
      "id": "527a6668",
      "metadata": {
        "id": "527a6668"
      },
      "outputs": [],
      "source": [
        "wc = mywilson.match_run(scale=100, eft='WET', basis='JMS')\n",
        "with open('my_wcxf_output.json', 'w') as f:\n",
        "    wc.dump(f)"
      ]
    },
    {
      "cell_type": "markdown",
      "id": "ca94a419",
      "metadata": {
        "id": "ca94a419"
      },
      "source": [
        "## 实际应用示例\n",
        "\n",
        "根据搜索结果[^3_5]，Wilson模块的使用流程通常如下："
      ]
    },
    {
      "cell_type": "code",
      "execution_count": null,
      "id": "334f9f70",
      "metadata": {
        "id": "334f9f70"
      },
      "outputs": [],
      "source": [
        "from wilson import Wilson\n",
        "import numpy\n",
        "\n",
        "# 初始化Wilson对象，指定初始系数、能量尺度、EFT类型和基\n",
        "mywilson = Wilson({'nd_1111': 1e-6, 'lnle_1111':1e-6},\n",
        "                 scale=1e3, eft='nuSMEFT', basis='Warsaw')\n",
        "\n",
        "# 设置Yukawa矩阵或其他参数(可选)\n",
        "mywilson.set_option('yukawa_scale_in', {'Gn': numpy.eye(3), 'Gu': numpy.zeros((3,3))})\n",
        "\n",
        "# 设置规范和希格斯参数(可选)\n",
        "mywilson.set_option('gauge_higgs_scale_in', {'g': 0, 'gp': 1, 'gs': 0.5, 'Lambda': 100, 'm2': 100})\n",
        "\n",
        "# 使用match_run方法进行演化和匹配\n",
        "result = mywilson.match_run(scale=100, eft='WET', basis='JMS')"
      ]
    },
    {
      "cell_type": "markdown",
      "id": "6c9d23f7",
      "metadata": {
        "id": "6c9d23f7"
      },
      "source": [
        "`match_run`方法会处理所有必要的计算，包括RGE演化、EFT匹配和基变换，最终返回在指定能量尺度、EFT框架和基底下的Wilson系数结果[^3_5]。\n",
        "\n",
        "<div>⁂</div>\n",
        "\n",
        "[^3_1]: https://stackoverflow.com/questions/25897377/import-module-containing-input-output\n",
        "\n",
        "[^3_2]: https://support.sas.com/resources/papers/proceedings09/036-2009.pdf\n",
        "\n",
        "[^3_3]: https://cds.cern.ch/record/2842082/files/CERN-LHCEFTWG-2022-002.pdf\n",
        "\n",
        "[^3_4]: https://docs.python.org/zh-tw/3/tutorial/modules.html\n",
        "\n",
        "[^3_5]: https://cds.cern.ch/record/2916922/files/2411.07220.pdf\n",
        "\n",
        "[^3_6]: https://wilson-eft.github.io/wilson/test_wilson.m.html\n",
        "\n",
        "[^3_7]: https://stackoverflow.com/questions/10029588/python-implementation-of-the-wilson-score-interval\n",
        "\n",
        "[^3_8]: http://practicalcheminformatics.blogspot.com/2018/05/free-wilson-analysis.html\n",
        "\n",
        "[^3_9]: https://in.linkedin.com/in/anand-dadhich-83a0b7151\n",
        "\n",
        "[^3_10]: https://www.youtube.com/watch?v=bMUnm4k2BBY\n",
        "\n",
        "[^3_11]: https://compneuro.neuromatch.io/tutorials/W2D4_DynamicNetworks/student/W2D4_Tutorial2.html\n",
        "\n",
        "[^3_12]: https://www.seas.upenn.edu/~ese5320/fall2022/handouts/hw3/walk_through.html\n",
        "\n",
        "[^3_13]: https://www.ibm.com/docs/en/imdm/11.6?topic=jobs-generate-weights\n",
        "\n",
        "[^3_14]: https://learn.microsoft.com/en-us/dotnet/fsharp/language-reference/pattern-matching\n",
        "\n",
        "[^3_15]: https://mc-stan.org/docs/cmdstan-guide/command_line_options.html\n",
        "\n",
        "[^3_16]: https://dataplatform.cloud.ibm.com/docs/content/dstage/com.ibm.swg.im.iis.qs.ug.doc/topics/c_Matching_data_from_dual_sources.html?context=cpdaas\n",
        "\n",
        "[^3_17]: https://stackoverflow.com/questions/78036244/how-to-write-loop-that-runs-until-function-output-matches-a-given-value-exactly\n",
        "\n",
        "---\n",
        "\n",
        "# 存储和访问Wilson模块match_run方法的输出结果\n",
        "\n",
        "根据现有信息，Wilson模块中`match_run`方法的输出结果存储方式如下：\n",
        "\n",
        "## 输出对象结构\n",
        "\n",
        "`match_run`方法返回一个Wilson系数(WC)对象，此对象包含在指定能量尺度、EFT框架和基底下计算得到的所有Wilson系数："
      ]
    },
    {
      "cell_type": "code",
      "execution_count": null,
      "id": "8c24f8f5",
      "metadata": {
        "id": "8c24f8f5"
      },
      "outputs": [],
      "source": [
        "wc = mywilson.match_run(scale=100, eft='WET', basis='JMS')"
      ]
    },
    {
      "cell_type": "markdown",
      "id": "80db6a38",
      "metadata": {
        "id": "80db6a38"
      },
      "source": [
        "## 访问输出数据的方法\n",
        "\n",
        "从返回的WC对象中，您可以通过以下方式访问结果：\n",
        "\n",
        "1. **直接访问系数值**：通过`.values`属性获取系数值字典"
      ]
    },
    {
      "cell_type": "code",
      "execution_count": null,
      "id": "3e542bd6",
      "metadata": {
        "id": "3e542bd6"
      },
      "outputs": [],
      "source": [
        "coefficients = wc.values\n",
        "# 访问特定系数\n",
        "specific_coefficient = coefficients['operator_name']"
      ]
    },
    {
      "cell_type": "markdown",
      "id": "5d8f8f70",
      "metadata": {
        "id": "5d8f8f70"
      },
      "source": [
        "2. **获取元数据**：WC对象还包含能量尺度、EFT类型和基底等元数据"
      ]
    },
    {
      "cell_type": "code",
      "execution_count": null,
      "id": "48e07633",
      "metadata": {
        "id": "48e07633"
      },
      "outputs": [],
      "source": [
        "scale = wc.scale  # 获取能量尺度\n",
        "eft_type = wc.eft  # 获取EFT类型\n",
        "basis_name = wc.basis  # 获取基底名称"
      ]
    },
    {
      "cell_type": "markdown",
      "id": "d9ef8e0e",
      "metadata": {
        "id": "d9ef8e0e"
      },
      "source": [
        "## 导出和持久化存储\n",
        "\n",
        "WC对象可以导出为标准的WCxf格式，方便与其他软件包交互或长期存储："
      ]
    },
    {
      "cell_type": "code",
      "execution_count": null,
      "id": "0ac9d033",
      "metadata": {
        "id": "0ac9d033"
      },
      "outputs": [],
      "source": [
        "# 将结果导出为JSON文件\n",
        "with open('wilson_coefficients.json', 'w') as f:\n",
        "    wc.dump(f)"
      ]
    },
    {
      "cell_type": "markdown",
      "id": "b36b6d6b",
      "metadata": {
        "id": "b36b6d6b"
      },
      "source": [
        "## 与其他包集成\n",
        "\n",
        "Wilson系数的计算结果可以轻松地传递给其他高能物理软件包，如flavio："
      ]
    },
    {
      "cell_type": "code",
      "execution_count": null,
      "id": "29ad9b4b",
      "metadata": {
        "id": "29ad9b4b"
      },
      "outputs": [],
      "source": [
        "import flavio\n",
        "\n",
        "# 创建flavio的Wilson系数对象\n",
        "fwc = flavio.WilsonCoefficients()\n",
        "\n",
        "# 将match_run的结果设置为flavio的初始条件\n",
        "fwc.set_initial_wcxf(wc)\n",
        "\n",
        "# 使用结果计算物理观测量\n",
        "flavio.sm_prediction(\"观测量名称\", wc=fwc)"
      ]
    },
    {
      "cell_type": "markdown",
      "id": "6e2c0447",
      "metadata": {
        "id": "6e2c0447"
      },
      "source": [
        "通过这种结构化的存储方式，`match_run`方法的输出结果可以灵活地用于各种后续分析和计算，同时保持与高能物理社区标准(WCxf)的兼容性。\n",
        "\n",
        "---\n",
        "\n",
        "# match_run方法的输出结果如何进行数据分析\n",
        "\n",
        "要分析Wilson模块中`match_run`方法的输出结果，您可以采用以下方法：\n",
        "\n",
        "## 基本数据提取与解析\n",
        "\n",
        "首先需要获取`match_run`方法输出的Wilson系数对象："
      ]
    },
    {
      "cell_type": "code",
      "execution_count": null,
      "id": "f9b911e8",
      "metadata": {
        "id": "f9b911e8"
      },
      "outputs": [],
      "source": [
        "from wilson import Wilson\n",
        "\n",
        "# 创建Wilson对象\n",
        "mywilson = Wilson({'uG_33': 1e-6}, scale=1e3, eft='SMEFT', basis='Warsaw')\n",
        "\n",
        "# 运行和匹配\n",
        "result = mywilson.match_run(scale=100, eft='WET', basis='JMS')\n",
        "\n",
        "# 获取所有系数数据\n",
        "coefficients = result.values"
      ]
    },
    {
      "cell_type": "markdown",
      "id": "889a3088",
      "metadata": {
        "id": "889a3088"
      },
      "source": [
        "## 系统性分析方法\n",
        "\n",
        "1. **构建系数向量**：将输出结果组织成向量形式进行分析"
      ]
    },
    {
      "cell_type": "code",
      "execution_count": null,
      "id": "30aaaecf",
      "metadata": {
        "id": "30aaaecf"
      },
      "outputs": [],
      "source": [
        "# 示例：构建系数向量进行分析\n",
        "coeff_vector = [coefficients[key] for key in sorted_keys]"
      ]
    },
    {
      "cell_type": "markdown",
      "id": "e46f69b1",
      "metadata": {
        "id": "e46f69b1"
      },
      "source": [
        "2. **比较分析**：与标准模型预测或其他理论模型进行比较"
      ]
    },
    {
      "cell_type": "code",
      "execution_count": null,
      "id": "a497713b",
      "metadata": {
        "id": "a497713b"
      },
      "outputs": [],
      "source": [
        "# 比较不同模型的结果\n",
        "baseline = standard_model_prediction()\n",
        "deviation = {k: coefficients[k] - baseline[k] for k in coefficients}"
      ]
    },
    {
      "cell_type": "markdown",
      "id": "39cdcf17",
      "metadata": {
        "id": "39cdcf17"
      },
      "source": [
        "## 集成其他分析工具\n",
        "\n",
        "Wilson输出可以与其他高能物理分析工具集成："
      ]
    },
    {
      "cell_type": "code",
      "execution_count": null,
      "id": "7e493865",
      "metadata": {
        "id": "7e493865"
      },
      "outputs": [],
      "source": [
        "import flavio\n",
        "\n",
        "# 创建flavio的Wilson系数对象\n",
        "fwc = flavio.WilsonCoefficients()\n",
        "\n",
        "# 将结果转化为flavio可识别的格式\n",
        "fwc.set_initial_wcxf(result)\n",
        "\n",
        "# 计算物理观测量\n",
        "observable = flavio.sm_prediction(\"B-&gt;Kstarmumu\", wc=fwc)"
      ]
    },
    {
      "cell_type": "markdown",
      "id": "3549721d",
      "metadata": {
        "id": "3549721d"
      },
      "source": [
        "## 数据验证和检验\n",
        "\n",
        "您可以通过以下方式验证计算结果：\n",
        "\n",
        "1. **内部测试函数**：使用Wilson包提供的测试函数[^5_5]\n",
        "2. **与已发表结果比对**：将计算结果与已发表的论文数据进行比较"
      ]
    },
    {
      "cell_type": "code",
      "execution_count": null,
      "id": "7f5dd160",
      "metadata": {
        "id": "7f5dd160"
      },
      "outputs": [],
      "source": [
        "# 生成随机Wilson系数字典用于测试\n",
        "test_coefficients = generate_random_coefficients()\n",
        "test_result = mywilson.match_run(scale=100, eft='WET', basis='JMS')\n",
        "# 比较与已发表文章的结果\n",
        "compare_with_published_results(test_result)"
      ]
    },
    {
      "cell_type": "markdown",
      "id": "58b2586a",
      "metadata": {
        "id": "58b2586a"
      },
      "source": [
        "## 数值表示与可视化\n",
        "\n",
        "对于复杂的多维系数集合，可以构建可视化表示："
      ]
    },
    {
      "cell_type": "code",
      "execution_count": null,
      "id": "cdf9fc0e",
      "metadata": {
        "id": "cdf9fc0e"
      },
      "outputs": [],
      "source": [
        "import matplotlib.pyplot as plt\n",
        "import numpy as np\n",
        "\n",
        "# 提取特定类型的系数进行图形化展示\n",
        "keys = [k for k in coefficients if k.startswith(\"C\")]\n",
        "values = [coefficients[k] for k in keys]\n",
        "\n",
        "plt.figure(figsize=(10, 6))\n",
        "plt.bar(keys, np.abs(values))\n",
        "plt.yscale('log')  # 对数尺度更适合展示不同量级的系数\n",
        "plt.title('Wilson系数绝对值分布')\n",
        "plt.xticks(rotation=90)\n",
        "plt.tight_layout()"
      ]
    },
    {
      "cell_type": "markdown",
      "id": "74749553",
      "metadata": {
        "id": "74749553"
      },
      "source": [
        "在νSMEFT扩展中，可以构建16×16的Wilson系数矩阵，用于更复杂的分析[^5_5]："
      ]
    },
    {
      "cell_type": "code",
      "execution_count": null,
      "id": "ac06b880",
      "metadata": {
        "id": "ac06b880"
      },
      "outputs": [],
      "source": [
        "# 构建向量形式的系数集合\n",
        "C_vector = [\n",
        "    coefficients[\"nd\"], coefficients[\"nu\"], coefficients[\"ne\"],\n",
        "    # ... 其他系数\n",
        "]"
      ]
    },
    {
      "cell_type": "markdown",
      "id": "c63df6b1",
      "metadata": {
        "id": "c63df6b1"
      },
      "source": [
        "通过这些方法，您可以对`match_run`方法生成的Wilson系数进行全面的物理分析，帮助探索标准模型之外的新物理现象。\n",
        "\n",
        "<div>⁂</div>\n",
        "\n",
        "[^5_1]: https://stackoverflow.com/questions/10746128/python-determine-actual-current-module-not-main\n",
        "\n",
        "[^5_2]: https://arxiv.org/abs/1804.05033\n",
        "\n",
        "[^5_3]: https://cds.cern.ch/record/2842082/files/CERN-LHCEFTWG-2022-002.pdf\n",
        "\n",
        "[^5_4]: https://0xsaiyajin.github.io/pentest/2019/05/13/python-library-hijacking-eng.html\n",
        "\n",
        "[^5_5]: https://cds.cern.ch/record/2916922/files/2411.07220.pdf\n",
        "\n",
        "[^5_6]: https://wilson-ren.netlify.app/python\n",
        "\n",
        "[^5_7]: https://flav-io.github.io/apidoc/flavio/functions.m.html\n",
        "\n",
        "[^5_8]: https://github.com/PatWalters/Free-Wilson\n",
        "\n",
        "[^5_9]: https://link.aps.org/doi/10.1103/PhysRevD.101.035023\n",
        "\n",
        "[^5_10]: https://campub.com.tw/product/detail/9786263244177\n",
        "\n",
        "[^5_11]: https://arxiv.org/abs/1912.05811\n",
        "\n",
        "[^5_12]: https://www.udemy.com/user/wilson-r-6/\n",
        "\n",
        "[^5_13]: https://mikulskibartosz.name/wilson-score-in-python-example\n",
        "\n",
        "[^5_14]: https://stackoverflow.com/questions/10029588/python-implementation-of-the-wilson-score-interval\n",
        "\n",
        "[^5_15]: https://arxiv.org/abs/1708.04474\n",
        "\n",
        "---\n",
        "\n",
        "# 对Wilson模块match_run方法输出结果的数据挖掘\n",
        "\n",
        "基于搜索结果，Wilson模块的`match_run`方法产生Wilson系数数据，可以通过以下数据挖掘技术进行分析：\n",
        "\n",
        "## 数据挖掘准备工作\n",
        "\n",
        "1. **数据获取与预处理**：首先需要从`match_run`方法获取Wilson系数及其元数据，并进行必要的清洗和转换[^6_9]"
      ]
    },
    {
      "cell_type": "code",
      "execution_count": null,
      "id": "4424d496",
      "metadata": {
        "id": "4424d496"
      },
      "outputs": [],
      "source": [
        "# 获取match_run的输出结果\n",
        "result = mywilson.match_run(scale=100, eft='WET', basis='JMS')\n",
        "coefficients = result.values"
      ]
    },
    {
      "cell_type": "markdown",
      "id": "cd42af7c",
      "metadata": {
        "id": "cd42af7c"
      },
      "source": [
        "2. **数据探索**：对数据进行初步统计分析和可视化，了解系数分布和关系[^6_9]\n",
        "\n",
        "## 常用数据挖掘技术应用\n",
        "\n",
        "### 1. 分类技术\n",
        "\n",
        "可以使用多种分类方法分析Wilson系数：\n",
        "\n",
        "- **决策树与随机森林**：用于将不同Wilson系数组合分类为物理解释类别[^6_4]\n",
        "- **神经网络**：特别适用于从复杂的Wilson系数数据中识别潜在模式[^6_4]\n",
        "\n",
        "实际应用案例包括使用人工神经网络进行假设检验和分类，如OPERA实验中对中微子事件的分类[^6_2]。\n",
        "\n",
        "### 2. 回归分析\n",
        "\n",
        "通过回归分析可以建立Wilson系数与可观测物理量之间的关系：\n",
        "\n",
        "- **线性回归**：当系数与观测量呈线性关系时[^6_4]\n",
        "- **Lasso回归**：用于处理多个相关Wilson系数，剔除冗余变量[^6_4]\n",
        "\n",
        "\n",
        "### 3. 聚类分析\n",
        "\n",
        "聚类可以帮助识别Wilson系数空间中的模式："
      ]
    },
    {
      "cell_type": "code",
      "execution_count": null,
      "id": "3d7cc711",
      "metadata": {
        "id": "3d7cc711"
      },
      "outputs": [],
      "source": [
        "# 对Wilson系数进行聚类分析\n",
        "from sklearn.cluster import KMeans\n",
        "kmeans = KMeans(n_clusters=3)\n",
        "clusters = kmeans.fit_predict(coefficient_vectors)"
      ]
    },
    {
      "cell_type": "markdown",
      "id": "3fb300bb",
      "metadata": {
        "id": "3fb300bb"
      },
      "source": [
        "### 4. 模型无关的无分箱分析\n",
        "\n",
        "最新的数据挖掘技术应用于Wilson系数分析包括无分箱（unbinned）分析方法：\n",
        "\n",
        "- 对于B介子衰变的无分箱分析可以更精确地提取Wilson系数[^6_8]\n",
        "- 相比传统分箱方法，无分箱分析能够保留更多信息，提高敏感度[^6_1][^6_5]\n",
        "\n",
        "\n",
        "## 高级分析方法\n",
        "\n",
        "1. **最大似然估计**：使用无分箱最大似然拟合直接确定Wilson系数[^6_5]\n",
        "2. **复值Wilson系数分析**：可以同时考虑实部和虚部的贡献[^6_10]"
      ]
    },
    {
      "cell_type": "code",
      "execution_count": null,
      "id": "6efd774c",
      "metadata": {
        "id": "6efd774c"
      },
      "outputs": [],
      "source": [
        "# 考虑复值Wilson系数\n",
        "complex_coefficients = {'C9': complex(real_part, imag_part)}"
      ]
    },
    {
      "cell_type": "markdown",
      "id": "3bce9c9a",
      "metadata": {
        "id": "3bce9c9a"
      },
      "source": [
        "3. **模型评估与选择**：\n",
        "    - 交叉验证\n",
        "    - 信息理论方法（如AIC准则）\n",
        "    - 这些方法可用于确定哪些算符或算符组合最能解释可用数据[^6_10]\n",
        "4. **理论约束转换**：将数据挖掘结果转换为Wilson系数的理论约束[^6_6]\n",
        "\n",
        "通过这些数据挖掘技术，可以从`match_run`方法的输出中提取有价值的物理洞见，识别可能的新物理信号，并对标准模型之外的理论进行验证。\n",
        "\n",
        "<div>⁂</div>\n",
        "\n",
        "[^6_1]: https://arxiv.org/abs/1708.04474\n",
        "\n",
        "[^6_2]: https://sciendo.com/pdf/10.2478/v10127-012-0013-0\n",
        "\n",
        "[^6_3]: https://indico.cern.ch/event/492400/contribution/1/attachments/1221307/1787385/model_comparison.pdf\n",
        "\n",
        "[^6_4]: https://www.datamation.com/big-data/data-mining-techniques/\n",
        "\n",
        "[^6_5]: https://cds.cern.ch/record/2279143/files/arXiv:1708.04474.pdf\n",
        "\n",
        "[^6_6]: https://indico.cern.ch/event/1381408/contributions/5806421/attachments/2803561/4891800/AA_EFTWG_3top_021924.pdf\n",
        "\n",
        "[^6_7]: https://www.slac.stanford.edu/pubs/slacreports/reports16/slac-r-176.pdf\n",
        "\n",
        "[^6_8]: https://arxiv.org/abs/2504.00949\n",
        "\n",
        "[^6_9]: https://www.qlik.com/us/data-analytics/data-mining\n",
        "\n",
        "[^6_10]: https://arxiv.org/abs/2004.14687\n",
        "\n",
        "[^6_11]: https://link.aps.org/doi/10.1103/PhysRevD.101.035023\n",
        "\n",
        "[^6_12]: https://arxiv.org/abs/1912.05811\n",
        "\n",
        "[^6_13]: https://indico.global/event/8249/contributions/73860/attachments/35774/66940/ML@HEP - Arun Nayak.pdf\n",
        "\n",
        "[^6_14]: https://cds.cern.ch/record/2898353/files/2405.11890.pdf\n",
        "\n",
        "[^6_15]: https://cylis.lib.cycu.edu.tw/record=b1888778~S1*cht\n",
        "\n",
        "[^6_16]: https://www.wiley.com/en-cn/Data+Analysis+in+High+Energy+Physics:+A+Practical+Guide+to+Statistical+Methods-p-9783527410583\n",
        "\n",
        "[^6_17]: https://lms.nchu.edu.tw/sysdata/doc/a/a506cbbe093fbcce/pdf.pdf\n",
        "\n",
        "[^6_18]: https://pmc.ncbi.nlm.nih.gov/articles/PMC1884444/\n",
        "\n",
        "[^6_19]: https://opendata.cern.ch/record/61\n",
        "\n",
        "[^6_20]: https://www.theknowledgeacademy.com/blog/data-mining-techniques/\n",
        "\n",
        "[^6_21]: https://inspirehep.net/literature/1621480\n",
        "\n",
        "[^6_22]: https://www.frontiersin.org/journals/psychology/articles/10.3389/fpsyg.2018.02231/full\n",
        "\n",
        "[^6_23]: https://www.slac.stanford.edu/pubs/slacpubs/7500/slac-pub-7702.pdf\n",
        "\n",
        "[^6_24]: https://www.technologynetworks.com/informatics/articles/data-mining-techniques-from-preprocessing-to-prediction-307060\n",
        "\n",
        "[^6_25]: https://www.dataversity.net/15-essential-data-mining-techniques/\n",
        "\n",
        "[^6_26]: https://pubmed.ncbi.nlm.nih.gov/35609381/\n",
        "\n",
        "[^6_27]: https://www.frontiersin.org/journals/neurology/articles/10.3389/fneur.2021.627294/full\n",
        "\n",
        "---\n",
        "\n",
        "# 将match_run方法的输出结果应用于机器学习\n",
        "\n",
        "Wilson模块的`match_run`方法生成的Wilson系数输出可以有效地应用于机器学习分析，特别是在高能物理研究领域。以下是几种关键应用方式：\n",
        "\n",
        "## 数据预处理与特征工程\n",
        "\n",
        "`match_run`方法的输出结果可作为机器学习模型的输入特征：\n",
        "\n",
        "- Wilson系数可以直接作为特征向量输入到机器学习模型中\n",
        "- 可以通过特征工程技术转换Wilson系数，创建更有信息量的特征空间\n",
        "\n",
        "\n",
        "## 机器学习分类应用\n",
        "\n",
        "研究表明，将Wilson系数作为输入可以实现多种分类任务：\n",
        "\n",
        "- 使用图神经网络可以显著提高对特定信号特征的敏感性，如暗物质信号的\"emerging jets\"[^7_3]\n",
        "- 有效场论(EFT)系数可以通过多变量方法进行分析，使用Sally等算法显著提高灵敏度[^7_4]\n",
        "\n",
        "\n",
        "## 约束有效场论参数\n",
        "\n",
        "match_run输出的Wilson系数可用于通过机器学习设定物理参数的约束：\n",
        "\n",
        "- 可以构建机器学习模型来确定哪些Wilson系数或系数组合最能解释实验数据\n",
        "- 机器学习方法相比传统直方图方法可将约束改进约3倍[^7_2]\n",
        "- 神经网络可以学习似然比r(x|θ)对参数和噪声参数的依赖性[^7_4]\n",
        "\n",
        "\n",
        "## 微分分布再解释\n",
        "\n",
        "机器学习评分变量可以用于重新解释微分分布：\n",
        "\n",
        "- 机器学习得分分布(ML score)可以与标准模型预测进行比较\n",
        "- 使用机器学习方法对电弱WZjj过程的各种微分分布进行再解释，获得对标准模型以外物理的约束[^7_2]\n",
        "\n",
        "\n",
        "## 高效处理与优化\n",
        "\n",
        "对于复杂的高能物理数据，使用先进的机器学习框架处理match_run输出：\n",
        "\n",
        "- 张量网络(Tensor Networks)等量子启发的机器学习技术可以应用于分析和分类CERN大型强子对撞机产生的数据[^7_5]\n",
        "- 量子信息自适应网络优化(QIANO)可以优化训练好的分类器，在保持高准确性的同时提高预测速度[^7_5]\n",
        "\n",
        "通过这些方法，match_run方法输出的Wilson系数数据可以被有效地整合到机器学习工作流程中，帮助物理学家实现更精确的模型约束，并发现标准模型之外可能存在的新物理现象。\n",
        "\n",
        "<div>⁂</div>\n",
        "\n",
        "[^7_1]: https://pmc.ncbi.nlm.nih.gov/articles/PMC7983091/\n",
        "\n",
        "[^7_2]: https://inspirehep.net/files/c12a5e0badad5f90da5f5e7a70d64112\n",
        "\n",
        "[^7_3]: https://cds.cern.ch/record/2897463\n",
        "\n",
        "[^7_4]: https://inspirehep.net/files/7000c1fc4a56a1802f60536fe5d221db\n",
        "\n",
        "[^7_5]: https://www.nature.com/articles/s41534-021-00443-w\n",
        "\n",
        "[^7_6]: https://www.mdpi.com/2073-431X/14/3/93\n",
        "\n",
        "[^7_7]: https://www.mdpi.com/1996-1073/14/16/4776\n",
        "\n",
        "[^7_8]: https://pmc.ncbi.nlm.nih.gov/articles/PMC11223572/\n",
        "\n",
        "[^7_9]: https://www.oeaw.ac.at/en/hephy/research/machine-learning\n",
        "\n",
        "[^7_10]: https://link.aps.org/doi/10.1103/PhysRevD.110.056004\n",
        "\n",
        "[^7_11]: https://arxiv.org/abs/2404.01071\n",
        "\n",
        "[^7_12]: https://arxiv.org/pdf/2203.07460.pdf\n",
        "\n",
        "[^7_13]: https://iml-wg.github.io/HEPML-LivingReview/\n",
        "\n",
        "[^7_14]: https://www.osti.gov/servlets/purl/1909125\n",
        "\n",
        "[^7_15]: https://indico.global/event/10416/contributions/100420/attachments/46286/87590/ML-Oslo2.pdf\n",
        "\n",
        "[^7_16]: https://indico.phys.sinica.edu.tw/event/71/sessions/233/attachments/335/721/AI_Particle_Physics_AS--J_Hsu.pdf\n",
        "\n",
        "[^7_17]: https://pmc.ncbi.nlm.nih.gov/articles/PMC7345470/\n",
        "\n",
        "[^7_18]: https://www.frontiersin.org/journals/neurology/articles/10.3389/fneur.2024.1418474/full\n",
        "\n",
        "[^7_19]: https://www.youtube.com/watch?v=pVOc_qNtS5M\n",
        "\n",
        "---\n",
        "\n",
        "# Wilson模块的主要功能有哪些\n",
        "\n",
        "Wilson模块是一个Python库，专为处理超越标准模型的高维算符Wilson系数而设计。根据搜索结果，其主要功能包括：\n",
        "\n",
        "## 运行(Running)功能\n",
        "\n",
        "- 在电弱尺度以上进行标准模型有效场论(SMEFT)中的Wilson系数重整化群演化[^8_1][^8_2]\n",
        "- 在电弱尺度以下进行弱有效理论(WET)中的Wilson系数演化[^8_1][^8_3]\n",
        "- 完整实现所有六维算符的一环(one-loop)重整化群演化[^8_2]\n",
        "- 在QCD和QED中进行WET算符的完整一环运行[^8_2]\n",
        "\n",
        "\n",
        "## 匹配(Matching)功能\n",
        "\n",
        "- 在电弱尺度自动将SMEFT匹配到WET[^8_1][^8_3]\n",
        "- 完整的树级(tree-level)匹配从SMEFT到WET[^8_2]\n",
        "- 自v2.0版本起支持一环(one-loop)SMEFT-WET匹配[^8_4]\n",
        "- 提供从SMEFT到WET、WET到WET-4以及WET-4到WET-3的匹配器[^8_5]\n",
        "\n",
        "\n",
        "## 基底转换(Basis translation)功能\n",
        "\n",
        "- 自动在不同Wilson系数基底之间进行转换[^8_1]\n",
        "- 基于Wilson系数交换格式(WCxf)进行基底转换[^8_3]\n",
        "- 为SMEFT和WET提供基底转换器[^8_5]\n",
        "\n",
        "\n",
        "## 与其他代码集成\n",
        "\n",
        "- 能够导入和导出Wilson系数到其他公共代码[^8_1]\n",
        "- 与flavio Python包特别兼容，可计算大量低能观测量[^8_1]\n",
        "- 基于Wilson系数交换格式(WCxf)，可轻松与支持此标准的代码结合使用[^8_2][^8_3]\n",
        "\n",
        "\n",
        "## 核心类和工具\n",
        "\n",
        "- `Wilson`类：提供SMEFT和WET中自动运行和匹配的主界面[^8_5]\n",
        "- `RGsolution`类：表示SMEFT和WET重整化群方程的连续解，用于绘图[^8_5]\n",
        "- 包含标准模型参数值[^8_5]\n",
        "\n",
        "Wilson模块支持完整的六维算符集，可以处理超出标准模型的新物理Wilson系数，从高能新物理尺度一直演化到与低能精确测试相关的强子尺度[^8_3]。\n",
        "\n",
        "<div>⁂</div>\n",
        "\n",
        "[^8_1]: https://wilson-eft.github.io\n",
        "\n",
        "[^8_2]: https://pypi.org/project/wilson/\n",
        "\n",
        "[^8_3]: https://arxiv.org/abs/1804.05033\n",
        "\n",
        "[^8_4]: https://github.com/wilson-eft/wilson/releases\n",
        "\n",
        "[^8_5]: https://wilson-eft.github.io/wilson/\n",
        "\n",
        "[^8_6]: https://github.com/simicd/smith-wilson-py\n",
        "\n",
        "[^8_7]: https://realpython.com/python-operator-module/\n",
        "\n",
        "[^8_8]: https://www.gbgunsdepot.com/post/sig-p320-grip-modules-x-compact-vs-icarus-precision-vs-wilson-combat\n",
        "\n",
        "[^8_9]: https://resources.vaco.com/python-wilson-becker-feature\n",
        "\n",
        "[^8_10]: https://www.skillreactor.io/blog/understanding-python-main-function/\n",
        "\n",
        "[^8_11]: https://wilsoncombat.com/accessories/sig-grip-modules.html\n",
        "\n",
        "[^8_12]: https://stackoverflow.com/questions/42747469/how-to-pass-arguments-to-main-function-within-python-module/42747728\n",
        "\n",
        "[^8_13]: https://tacticalhyve.com/wilson-combat-sig-p320/\n",
        "\n",
        "[^8_14]: https://blog.rtwilson.com/my-top-5-new-python-modules-of-2015/\n",
        "\n",
        "[^8_15]: https://www.youtube.com/watch?v=n3SaydRzwl0\n",
        "\n",
        "[^8_16]: https://www.linkedin.com/posts/greg-wilson-a26510b6_software-design-by-example-in-python-18-activity-7186681803296980992-thpb\n",
        "\n",
        "[^8_17]: https://www.talosdefense.com/wilson-combat-grip-module-wcp320-carry-no-manual-safety-black\n",
        "\n",
        "[^8_18]: https://www.fgwilson.com/en_GB/products/controlpanels.html\n",
        "\n",
        "[^8_19]: https://www.youtube.com/watch?v=ME_ToLhC2vI\n",
        "\n",
        "[^8_20]: https://grayguns.com/product/wilson-combat-p320-grip-module/\n",
        "\n",
        "---\n",
        "\n",
        "# Wilson模块如何与其他Python包集成\n",
        "\n",
        "Wilson模块提供多种与其他Python包集成的方法，主要通过标准化的数据格式和专门的接口实现：\n",
        "\n",
        "## 基于Wilson系数交换格式(WCxf)的集成\n",
        "\n",
        "Wilson模块建立在Wilson系数交换格式(WCxf)的基础上，这是一种标准化格式，使得不同代码间可以无缝交换Wilson系数数据[^9_1][^9_5]："
      ]
    },
    {
      "cell_type": "code",
      "execution_count": null,
      "id": "05cd2251",
      "metadata": {
        "id": "05cd2251"
      },
      "outputs": [],
      "source": [
        "# 导出Wilson系数到WCxf格式\n",
        "wc = mywilson.match_run(scale=100, eft='WET', basis='JMS')\n",
        "with open('coefficients.json', 'w') as f:\n",
        "    wc.dump(f)"
      ]
    },
    {
      "cell_type": "markdown",
      "id": "1cf5da9a",
      "metadata": {
        "id": "1cf5da9a"
      },
      "source": [
        "通过这种标准格式，Wilson能够轻松与支持WCxf的所有代码集成[^9_4]。\n",
        "\n",
        "## 与flavio包的特定集成\n",
        "\n",
        "Wilson与flavio Python包有特别的兼容性，可用于计算大量低能物理观测量[^9_1]："
      ]
    },
    {
      "cell_type": "code",
      "execution_count": null,
      "id": "c69a0399",
      "metadata": {
        "id": "c69a0399"
      },
      "outputs": [],
      "source": [
        "import flavio\n",
        "from wilson import Wilson\n",
        "\n",
        "# 创建Wilson对象并运行到低能尺度\n",
        "mywilson = Wilson({'C7_bs': 0.1}, scale=1000, eft='WET', basis='flavio')\n",
        "wc = mywilson.match_run(scale=4.2, eft='WET', basis='flavio')\n",
        "\n",
        "# 将Wilson系数应用于flavio物理计算\n",
        "obs = flavio.sm_prediction('BR(B-&gt;Xsgamma)', wc)"
      ]
    },
    {
      "cell_type": "markdown",
      "id": "65cc5350",
      "metadata": {
        "id": "65cc5350"
      },
      "source": [
        "## 提供匹配器和转换器\n",
        "\n",
        "Wilson模块提供了从SMEFT到WET、WET到WET-4以及WET-4到WET-3的匹配器，这些可以与wcxf Python包一起使用[^9_2]。同样，它也提供了SMEFT和WET的基底转换器，也可与wcxf包配合使用[^9_2]。\n",
        "\n",
        "## 自动化工作流程\n",
        "\n",
        "Wilson自动执行完整的运行和匹配过程，使用户可以从高能新物理尺度一直到低能精确测试相关的强子尺度进行计算，无需手动集成多个代码[^9_1][^9_5]："
      ]
    },
    {
      "cell_type": "code",
      "execution_count": null,
      "id": "3f4f0a47",
      "metadata": {
        "id": "3f4f0a47"
      },
      "outputs": [],
      "source": [
        "from wilson import Wilson\n",
        "\n",
        "# 在高能尺度定义Wilson系数\n",
        "wc_high = Wilson({'uG_33': 1e-6}, scale=1e3, eft='SMEFT', basis='Warsaw')\n",
        "\n",
        "# 自动运行到低能尺度并匹配到适当的EFT\n",
        "wc_low = wc_high.match_run(scale=2, eft='WET-3', basis='flavio')\n",
        "\n",
        "# 此结果可以直接传递给其他Python包"
      ]
    },
    {
      "cell_type": "markdown",
      "id": "eb7a3cf2",
      "metadata": {
        "id": "eb7a3cf2"
      },
      "source": [
        "通过这些集成方法，Wilson模块为理论物理学家提供了一个强大的工具，可以无缝连接不同的理论框架和分析工具。\n",
        "\n",
        "<div>⁂</div>\n",
        "\n",
        "[^9_1]: https://wilson-eft.github.io\n",
        "\n",
        "[^9_2]: https://wilson-eft.github.io/wilson/\n",
        "\n",
        "[^9_3]: https://github.com/simicd/smith-wilson-py\n",
        "\n",
        "[^9_4]: https://pypi.org/project/wilson/\n",
        "\n",
        "[^9_5]: https://arxiv.org/abs/1804.05033\n",
        "\n",
        "[^9_6]: https://stackoverflow.com/questions/10029588/python-implementation-of-the-wilson-score-interval\n",
        "\n",
        "[^9_7]: https://hekstralab.fas.harvard.edu/files/hekstralab/files/rspaper.pdf\n",
        "\n",
        "[^9_8]: https://stackoverflow.com/questions/66627014/how-to-know-what-python-version-a-package-is-compatible-with\n",
        "\n",
        "[^9_9]: https://github.com/wilsonfreitas/awesome-quant\n",
        "\n",
        "[^9_10]: https://wilson-eft.github.io/wilson/match/index.html\n",
        "\n",
        "[^9_11]: http://docs.enthought.com/python-for-LabVIEW/guide/start.html\n",
        "\n",
        "[^9_12]: https://github.com/wcxf/wcxf-python\n",
        "\n",
        "[^9_13]: https://stackoverflow.com/questions/65901845/two-pip-installed-modules-have-the-same-name-how-to-select-which-one-is-loaded\n",
        "\n",
        "[^9_14]: https://pypi.org/project/compatibility/\n",
        "\n",
        "[^9_15]: https://tech.forums.softwareag.com/t/python-pipeline-here-s-how-to-build-your-python-package-and-install-it-in-streamsets/294857\n",
        "\n",
        "---\n",
        "\n",
        "# Wilson模块处理QCD和QED演化方法\n",
        "\n",
        "Wilson Python模块提供了一套完整的框架来处理标准模型之外物理中Wilson系数的QCD和QED演化。根据搜索结果，其处理方法主要有以下特点：\n",
        "\n",
        "## 基本原理\n",
        "\n",
        "Wilson模块实现了弱有效理论(WET)中所有维度6算符的完整一环(one-loop)QCD和QED重整化群演化[^10_2][^10_5]。这些演化过程发生在电弱能标以下，直到与低能精确测试相关的强子能标[^10_5]。\n",
        "\n",
        "## 技术实现\n",
        "\n",
        "Wilson模块处理QCD和QED演化的步骤包括：\n",
        "\n",
        "1. **采用分析解方法**：模块实现了所有夸克味道破坏(quark flavour violating)算符的一环RGE方程的分析解[^10_4]。\n",
        "2. **特殊的算符重整化**：为简化计算，对偶极算符和三胶子算符进行了特殊重整化[^10_4]："
      ]
    },
    {
      "cell_type": "code",
      "execution_count": null,
      "id": "8af87605",
      "metadata": {
        "id": "8af87605"
      },
      "outputs": [],
      "source": [
        "f̄ᵢₗσᵘᵛfʲᵣFᵘᵛ → (e/g²ₛ)mₑf̄ᵢₗσᵘᵛfʲᵣFᵘᵛ\n",
        "f̄ᵢₗσᵘᵛTᴬfʲᵣGᴬᵘᵛ → (1/gₛ)mₑf̄ᵢₗσᵘᵛTᴬfʲᵣGᴬᵘᵛ\n",
        "Gᴬᵛᵘ Gᴮᵖᵛ Gᶜᵘᵖ → (1/gₛ)Gᴬᵛᵘ Gᴮᵖᵛ Gᶜᵘᵖ"
      ]
    },
    {
      "cell_type": "markdown",
      "id": "3752c33a",
      "metadata": {
        "id": "3752c33a"
      },
      "source": [
        "其中mf = max(mfi, mfj)[^10_4]。\n",
        "3. **简化的RGE方程**：通过上述重整化，RGE方程可简化为[^10_4]："
      ]
    },
    {
      "cell_type": "code",
      "execution_count": null,
      "id": "b44164bb",
      "metadata": {
        "id": "b44164bb"
      },
      "outputs": [],
      "source": [
        "dCi/d ln μ = (g²ₛ/16π²)∑ⱼγˢⱼᵢCᵢ + (e²/16π²)∑ⱼγᵉⱼᵢCᵢ"
      ]
    },
    {
      "cell_type": "markdown",
      "id": "6196644f",
      "metadata": {
        "id": "6196644f"
      },
      "source": [
        "这种形式没有gs或e的线性或混合项。\n",
        "4. **常数近似处理**：重整化后，反常维度矩阵γs,e只包含数字和费米子质量比，这些值在O(αs)阶是RG不变的，因此可以很好地近似为常数[^10_4]。\n",
        "\n",
        "## 使用强耦合常数和夸克质量演化\n",
        "\n",
        "Wilson模块使用python-rundec包（封装了CRunDec模块）来计算夸克质量和强耦合常数的QCD演化[^10_4]。这确保了在不同能量尺度上使用正确的参数值。\n",
        "\n",
        "## 完整性\n",
        "\n",
        "Wilson实现了从SMEFT到WET的完整树级匹配以及WET中维度6算符的完整QCD和QED演化[^10_2][^10_5]，涵盖标准模型有效场论工具包中的所有必要成分。\n",
        "\n",
        "这种全面的实现使得Wilson成为连接高能新物理模型与低能精确测试的重要工具，特别是对于那些需要精确QCD和QED量子修正的过程[^10_5]。\n",
        "\n",
        "<div>⁂</div>\n",
        "\n",
        "[^10_1]: https://arxiv.org/abs/2502.02490\n",
        "\n",
        "[^10_2]: https://github.com/wilson-eft/wilson\n",
        "\n",
        "[^10_3]: https://epjc.epj.org/articles/epjc/abs/2017/06/10052_2017_Article_4967/10052_2017_Article_4967.html\n",
        "\n",
        "[^10_4]: https://arxiv.org/pdf/1804.05033.pdf\n",
        "\n",
        "[^10_5]: https://arxiv.org/abs/1804.05033\n",
        "\n",
        "[^10_6]: https://flav-io.github.io/apidoc/flavio/physics/running/index.html\n",
        "\n",
        "[^10_7]: https://inspirehep.net/literature/1667740\n",
        "\n",
        "[^10_8]: https://inspirehep.net/literature/1591722\n",
        "\n",
        "[^10_9]: https://inis.iaea.org/records/ye4qq-0fc48\n",
        "\n",
        "[^10_10]: https://boris.unibe.ch/102350/\n",
        "\n",
        "[^10_11]: https://wilson-eft.github.io/wilson/util/qcd.m.html\n",
        "\n",
        "[^10_12]: https://link.aps.org/doi/10.1103/PhysRevD.103.114508\n",
        "\n",
        "[^10_13]: https://academic.oup.com/ptep/article/2022/5/053B01/6546218\n",
        "\n",
        "[^10_14]: http://arxiv.org/pdf/1712.05298.pdf\n",
        "\n",
        "[^10_15]: https://indico.ihep.ac.cn/event/7744/contributions/97352/attachments/51776/59655/LQCD_day5.pdf\n",
        "\n",
        "---\n",
        "\n",
        "# Wilson模块的文档和用户指南在哪里可以找到\n",
        "\n",
        "根据搜索结果，Wilson模块的文档和用户指南可以从以下几个来源获取：\n",
        "\n",
        "1. **官方项目论文**：简要的用户手册可以在论文\"Wilson: a Python package for the running and matching of Wilson coefficients above and below the electroweak scale\"中找到[^11_1][^11_3][^11_5]。这篇论文发表在arXiv上，编号为arXiv:1804.05033，可以直接在arXiv网站上访问PDF版本[^11_5]。\n",
        "2. **项目官方网站**：更多信息可以在Wilson项目的官方网站找到：wilson-eft.github.io[^11_1][^11_3][^11_4]。\n",
        "3. **API文档**：Wilson模块的详细API文档，包括所有类、函数和方法的说明，可以在官方网站的\"wilson API documentation\"部分找到[^11_4]。\n",
        "4. **示例Jupyter笔记本**：项目提供了Jupyter笔记本示例，可以直接在浏览器中使用和尝试代码[^11_4]。\n",
        "5. **GitHub仓库**：Wilson的源代码和其他文档资源可以在GitHub仓库中找到：https://github.com/wilson-eft/wilson[^11_3]。\n",
        "6. **GitHub Issue系统**：对于问题和功能请求，可以使用GitHub的issue系统提交[^11_3]。\n",
        "\n",
        "这些资源提供了从入门到高级使用的全面文档，帮助用户理解和应用Wilson模块进行标准模型之外的物理分析。\n",
        "\n",
        "<div>⁂</div>\n",
        "\n",
        "[^11_1]: https://pypi.org/project/wilson/\n",
        "\n",
        "[^11_2]: https://cran.r-project.org/web/packages/wilson/wilson.pdf\n",
        "\n",
        "[^11_3]: https://github.com/wilson-eft/wilson\n",
        "\n",
        "[^11_4]: https://wilson-eft.github.io\n",
        "\n",
        "[^11_5]: https://arxiv.org/abs/1804.05033\n",
        "\n",
        "[^11_6]: https://docs.python.org/3/whatsnew/3.9.html\n",
        "\n",
        "[^11_7]: https://wilson-eft.github.io/wilson/\n",
        "\n",
        "[^11_8]: https://wilsoncombat.com/accessories/sig-grip-modules.html\n",
        "\n",
        "[^11_9]: https://docs.python.org/3/library/index.html\n",
        "\n",
        "[^11_10]: https://compneuro.neuromatch.io/tutorials/W2D4_DynamicNetworks/student/W2D4_Tutorial2.html\n",
        "\n",
        "[^11_11]: https://www.youtube.com/watch?v=GfobfcPiw6o\n",
        "\n",
        "[^11_12]: https://github.com/wilson-eft/wilson/releases\n",
        "\n",
        "[^11_13]: https://www.wilsonaudio.com/media/298/manual-maxx-series-3.pdf\n",
        "\n",
        "[^11_14]: https://wilson-ren.netlify.app\n",
        "\n",
        "[^11_15]: https://www.wilsonaudio.com/media/299/manual-alexia.pdf\n",
        "\n",
        "[^11_16]: https://github.com/wilson-eft\n",
        "\n",
        "[^11_17]: https://sigforum.com/eve/forums/a/tpc/f/150601935/m/8420010984\n",
        "\n",
        "[^11_18]: https://www.maara-solutions.de/uploads/pdf/FGWilson/FG-Wilson-310-8333-PowerWizard-Operators.pdf\n",
        "\n",
        "[^11_19]: https://soclibrary.futa.edu.ng/books/Python for Data Science The Ultimate Step-by-Step Guide to Learn Python In 7 Days  NLP, Data Science from with Python (Master... (Wilson, Richard) (Z-Library).pdf\n",
        "\n",
        "[^11_20]: https://joomlead.com/documentation/wilson-documentation/"
      ]
    }
  ],
  "metadata": {
    "colab": {
      "provenance": [],
      "include_colab_link": true
    },
    "language_info": {
      "name": "python"
    },
    "kernelspec": {
      "name": "python3",
      "display_name": "Python 3"
    }
  },
  "nbformat": 4,
  "nbformat_minor": 5
}